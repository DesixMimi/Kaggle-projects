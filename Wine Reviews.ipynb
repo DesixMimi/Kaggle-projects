{
 "cells": [
  {
   "cell_type": "markdown",
   "metadata": {},
   "source": [
    "The goal of this homework is to try to solve the problem of predicting wine quality from review texts and other properties of the wine. You can find the dataset here:https://www.kaggle.com/zynicide/wine-reviews\n",
    "\n",
    "For this task, we will only use wine from the United States (only 42% of data)."
   ]
  },
  {
   "cell_type": "markdown",
   "metadata": {},
   "source": [
    "## Columns Explanation:\n",
    "\n",
    "* **Designation** - The vineyard within the winery where the grapes that made the wine are from.\n",
    "* **Points** - The number of points WineEnthusiast rated the wine on a scale of 1-100 (though they say they only post reviews for wines that score >=80).\n",
    "* **Price** - The cost for a bottle of the wine.\n",
    "* **Province** - The province or state that the wine is from.\n",
    "* **region_1** - The wine growing area in a province or state (ie Napa).\n",
    "* **region_2** - Sometimes there are more specific regions specified within a wine growing area (ie Rutherford inside the Napa Valley), but this value can sometimes be blank.\n",
    "* **Taster_name**\n",
    "* **title** - The title of the wine review, which often contains the vintage if you're interested in extracting that feature.\n",
    "* **variety** - The type of grapes used to make the wine (ie Pinot Noir).\n",
    "* **winery** - The winery that made the wine."
   ]
  },
  {
   "cell_type": "code",
   "execution_count": 3,
   "metadata": {},
   "outputs": [],
   "source": [
    "import numpy as np\n",
    "from time import time\n",
    "\n",
    "import pandas as pd\n",
    "\n",
    "import warnings\n",
    "warnings.filterwarnings('ignore')\n",
    "\n",
    "from sklearn.preprocessing import StandardScaler\n",
    "\n",
    "\n",
    "from sklearn.model_selection import cross_val_score, GridSearchCV ,cross_val_predict, KFold, StratifiedKFold, ShuffleSplit, train_test_split\n",
    "from sklearn.linear_model import RidgeCV, LinearRegression, LassoCV, Ridge, Lasso\n",
    "from sklearn.pipeline import make_pipeline\n",
    "from sklearn.metrics import mean_squared_error, r2_score\n",
    "from sklearn.impute import SimpleImputer\n",
    "from sklearn.metrics import mean_absolute_error\n",
    "\n",
    "\n",
    "from nltk.stem import WordNetLemmatizer\n",
    "from nltk.tokenize import RegexpTokenizer\n",
    "from nltk.corpus import stopwords\n",
    "from sklearn.feature_extraction.text import TfidfVectorizer\n",
    "import re\n",
    "from keras.preprocessing.text import Tokenizer \n",
    "\n",
    "\n",
    "from sklearn.pipeline import Pipeline\n",
    "from sklearn.feature_extraction.text import CountVectorizer\n",
    "from sklearn.compose import ColumnTransformer\n",
    "\n",
    "import matplotlib.pyplot as plt\n",
    "from matplotlib.colors import ListedColormap\n",
    "import seaborn as sns\n",
    "# Create color maps\n",
    "cmap = ListedColormap([\"Red\",\"Green\",\"Blue\"])\n",
    "# cmap = ListedColormap([\"#e41a1c\",\"#984ea3\",\"#a65628\",\"#377eb8\",\"#ffff33\",\"#4daf4a\",\"#ff7f00\"])\n",
    "%matplotlib inline\n",
    "plt.rcParams['figure.figsize'] = (10, 6)\n",
    "plt.style.use('ggplot')"
   ]
  },
  {
   "cell_type": "markdown",
   "metadata": {},
   "source": [
    "## Bag of Words and simple Features\n",
    "\n",
    "1.1 Creating a baseline model for predicting wine quality using only non-text features.\n",
    "\n"
   ]
  },
  {
   "cell_type": "code",
   "execution_count": 4,
   "metadata": {},
   "outputs": [
    {
     "name": "stdout",
     "output_type": "stream",
     "text": [
      "Dataframe's shape is 54504 rows and 14 columns\n"
     ]
    },
    {
     "data": {
      "text/html": [
       "<div>\n",
       "<style scoped>\n",
       "    .dataframe tbody tr th:only-of-type {\n",
       "        vertical-align: middle;\n",
       "    }\n",
       "\n",
       "    .dataframe tbody tr th {\n",
       "        vertical-align: top;\n",
       "    }\n",
       "\n",
       "    .dataframe thead th {\n",
       "        text-align: right;\n",
       "    }\n",
       "</style>\n",
       "<table border=\"1\" class=\"dataframe\">\n",
       "  <thead>\n",
       "    <tr style=\"text-align: right;\">\n",
       "      <th></th>\n",
       "      <th>Unnamed: 0</th>\n",
       "      <th>country</th>\n",
       "      <th>description</th>\n",
       "      <th>designation</th>\n",
       "      <th>points</th>\n",
       "      <th>price</th>\n",
       "      <th>province</th>\n",
       "      <th>region_1</th>\n",
       "      <th>region_2</th>\n",
       "      <th>taster_name</th>\n",
       "      <th>taster_twitter_handle</th>\n",
       "      <th>title</th>\n",
       "      <th>variety</th>\n",
       "      <th>winery</th>\n",
       "    </tr>\n",
       "  </thead>\n",
       "  <tbody>\n",
       "    <tr>\n",
       "      <th>2</th>\n",
       "      <td>2</td>\n",
       "      <td>US</td>\n",
       "      <td>Tart and snappy, the flavors of lime flesh and...</td>\n",
       "      <td>NaN</td>\n",
       "      <td>87</td>\n",
       "      <td>14.0</td>\n",
       "      <td>Oregon</td>\n",
       "      <td>Willamette Valley</td>\n",
       "      <td>Willamette Valley</td>\n",
       "      <td>Paul Gregutt</td>\n",
       "      <td>@paulgwine</td>\n",
       "      <td>Rainstorm 2013 Pinot Gris (Willamette Valley)</td>\n",
       "      <td>Pinot Gris</td>\n",
       "      <td>Rainstorm</td>\n",
       "    </tr>\n",
       "    <tr>\n",
       "      <th>3</th>\n",
       "      <td>3</td>\n",
       "      <td>US</td>\n",
       "      <td>Pineapple rind, lemon pith and orange blossom ...</td>\n",
       "      <td>Reserve Late Harvest</td>\n",
       "      <td>87</td>\n",
       "      <td>13.0</td>\n",
       "      <td>Michigan</td>\n",
       "      <td>Lake Michigan Shore</td>\n",
       "      <td>NaN</td>\n",
       "      <td>Alexander Peartree</td>\n",
       "      <td>NaN</td>\n",
       "      <td>St. Julian 2013 Reserve Late Harvest Riesling ...</td>\n",
       "      <td>Riesling</td>\n",
       "      <td>St. Julian</td>\n",
       "    </tr>\n",
       "    <tr>\n",
       "      <th>4</th>\n",
       "      <td>4</td>\n",
       "      <td>US</td>\n",
       "      <td>Much like the regular bottling from 2012, this...</td>\n",
       "      <td>Vintner's Reserve Wild Child Block</td>\n",
       "      <td>87</td>\n",
       "      <td>65.0</td>\n",
       "      <td>Oregon</td>\n",
       "      <td>Willamette Valley</td>\n",
       "      <td>Willamette Valley</td>\n",
       "      <td>Paul Gregutt</td>\n",
       "      <td>@paulgwine</td>\n",
       "      <td>Sweet Cheeks 2012 Vintner's Reserve Wild Child...</td>\n",
       "      <td>Pinot Noir</td>\n",
       "      <td>Sweet Cheeks</td>\n",
       "    </tr>\n",
       "    <tr>\n",
       "      <th>10</th>\n",
       "      <td>10</td>\n",
       "      <td>US</td>\n",
       "      <td>Soft, supple plum envelopes an oaky structure ...</td>\n",
       "      <td>Mountain Cuvée</td>\n",
       "      <td>87</td>\n",
       "      <td>19.0</td>\n",
       "      <td>California</td>\n",
       "      <td>Napa Valley</td>\n",
       "      <td>Napa</td>\n",
       "      <td>Virginie Boone</td>\n",
       "      <td>@vboone</td>\n",
       "      <td>Kirkland Signature 2011 Mountain Cuvée Caberne...</td>\n",
       "      <td>Cabernet Sauvignon</td>\n",
       "      <td>Kirkland Signature</td>\n",
       "    </tr>\n",
       "    <tr>\n",
       "      <th>12</th>\n",
       "      <td>12</td>\n",
       "      <td>US</td>\n",
       "      <td>Slightly reduced, this wine offers a chalky, t...</td>\n",
       "      <td>NaN</td>\n",
       "      <td>87</td>\n",
       "      <td>34.0</td>\n",
       "      <td>California</td>\n",
       "      <td>Alexander Valley</td>\n",
       "      <td>Sonoma</td>\n",
       "      <td>Virginie Boone</td>\n",
       "      <td>@vboone</td>\n",
       "      <td>Louis M. Martini 2012 Cabernet Sauvignon (Alex...</td>\n",
       "      <td>Cabernet Sauvignon</td>\n",
       "      <td>Louis M. Martini</td>\n",
       "    </tr>\n",
       "  </tbody>\n",
       "</table>\n",
       "</div>"
      ],
      "text/plain": [
       "    Unnamed: 0 country                                        description  \\\n",
       "2            2      US  Tart and snappy, the flavors of lime flesh and...   \n",
       "3            3      US  Pineapple rind, lemon pith and orange blossom ...   \n",
       "4            4      US  Much like the regular bottling from 2012, this...   \n",
       "10          10      US  Soft, supple plum envelopes an oaky structure ...   \n",
       "12          12      US  Slightly reduced, this wine offers a chalky, t...   \n",
       "\n",
       "                           designation  points  price    province  \\\n",
       "2                                  NaN      87   14.0      Oregon   \n",
       "3                 Reserve Late Harvest      87   13.0    Michigan   \n",
       "4   Vintner's Reserve Wild Child Block      87   65.0      Oregon   \n",
       "10                      Mountain Cuvée      87   19.0  California   \n",
       "12                                 NaN      87   34.0  California   \n",
       "\n",
       "               region_1           region_2         taster_name  \\\n",
       "2     Willamette Valley  Willamette Valley        Paul Gregutt   \n",
       "3   Lake Michigan Shore                NaN  Alexander Peartree   \n",
       "4     Willamette Valley  Willamette Valley        Paul Gregutt   \n",
       "10          Napa Valley               Napa      Virginie Boone   \n",
       "12     Alexander Valley             Sonoma      Virginie Boone   \n",
       "\n",
       "   taster_twitter_handle                                              title  \\\n",
       "2            @paulgwine       Rainstorm 2013 Pinot Gris (Willamette Valley)   \n",
       "3                    NaN  St. Julian 2013 Reserve Late Harvest Riesling ...   \n",
       "4            @paulgwine   Sweet Cheeks 2012 Vintner's Reserve Wild Child...   \n",
       "10               @vboone  Kirkland Signature 2011 Mountain Cuvée Caberne...   \n",
       "12               @vboone  Louis M. Martini 2012 Cabernet Sauvignon (Alex...   \n",
       "\n",
       "               variety              winery  \n",
       "2           Pinot Gris           Rainstorm  \n",
       "3             Riesling          St. Julian  \n",
       "4           Pinot Noir        Sweet Cheeks  \n",
       "10  Cabernet Sauvignon  Kirkland Signature  \n",
       "12  Cabernet Sauvignon    Louis M. Martini  "
      ]
     },
     "execution_count": 4,
     "metadata": {},
     "output_type": "execute_result"
    }
   ],
   "source": [
    "df = pd.read_csv('winemag-data-130k-v2.csv')\n",
    "df = df[df['country']=='US']\n",
    "print(\"Dataframe's shape is {} rows and {} columns\".format(df.shape[0], df.shape[1]))\n",
    "df.head()"
   ]
  },
  {
   "cell_type": "code",
   "execution_count": 5,
   "metadata": {},
   "outputs": [
    {
     "data": {
      "text/plain": [
       "Text(0, 0.5, 'Count')"
      ]
     },
     "execution_count": 5,
     "metadata": {},
     "output_type": "execute_result"
    },
    {
     "data": {
      "image/png": "[encoded data removed]",
      "text/plain": [
       "<Figure size 1600x500 with 1 Axes>"
      ]
     },
     "metadata": {},
     "output_type": "display_data"
    }
   ],
   "source": [
    "plt.figure(figsize=(16,5))\n",
    "\n",
    "g = sns.countplot(x='points', data=df, color = sns.xkcd_rgb['wine'])\n",
    "g.set_title(\"Points Count distribuition \", fontsize=20) \n",
    "g.set_xlabel(\"Points\") \n",
    "g.set_ylabel(\"Count\")"
   ]
  },
  {
   "cell_type": "markdown",
   "metadata": {},
   "source": [
    "The socket I have in the graph means that there are actually two peaks, two distributions.\n",
    "\n",
    "\n",
    "In a normal distribution, the mean (axis of symmetry) is both the median and common (the middle does not appear to be common)\n",
    "\n"
   ]
  },
  {
   "cell_type": "code",
   "execution_count": 6,
   "metadata": {},
   "outputs": [
    {
     "data": {
      "text/plain": [
       "Text(0, 0.5, 'Count')"
      ]
     },
     "execution_count": 6,
     "metadata": {},
     "output_type": "execute_result"
    },
    {
     "data": {
      "image/png": "[encoded data removed]",
      "text/plain": [
       "<Figure size 2500x1000 with 1 Axes>"
      ]
     },
     "metadata": {},
     "output_type": "display_data"
    }
   ],
   "source": [
    "plt.figure(figsize=(25,10))\n",
    "\n",
    "g = sns.histplot(data = np.log(df['price']), kde = True, color = sns.xkcd_rgb['wine'])\n",
    "g.set_title(\"Wine Price Density\", fontsize=20) \n",
    "g.set_xlabel(\"Price\", fontsize=20) \n",
    "g.set_ylabel(\"Count\", fontsize=20)\n"
   ]
  },
  {
   "cell_type": "markdown",
   "metadata": {},
   "source": [
    "Taking the logarithm can help to reduce the variability and reveal patterns or outliers in the data that may not be visible otherwise. Additionally, a log transformation can make the data more symmetric, which can help with the interpretation of the histogram plot.\n",
    "\n",
    "Plotting without the logarithmic function will give us non informatic plot."
   ]
  },
  {
   "cell_type": "code",
   "execution_count": 7,
   "metadata": {},
   "outputs": [
    {
     "data": {
      "text/plain": [
       "<AxesSubplot:xlabel='points', ylabel='log_price'>"
      ]
     },
     "execution_count": 7,
     "metadata": {},
     "output_type": "execute_result"
    },
    {
     "data": {
      "text/plain": [
       "<Figure size 1000x1000 with 0 Axes>"
      ]
     },
     "metadata": {},
     "output_type": "display_data"
    },
    {
     "data": {
      "image/png": "[encoded data removed]",
      "text/plain": [
       "<Figure size 1500x1000 with 1 Axes>"
      ]
     },
     "metadata": {},
     "output_type": "display_data"
    }
   ],
   "source": [
    "plt.figure(figsize=(10,10))\n",
    "\n",
    "# # Using the following plot will show us that there is some correlation between those two columns but we don't know \n",
    "# # how strong it is and thus, it is not informative enough.\n",
    "# g = sns.regplot(x='price', y='points', data=df)\n",
    "# g.set_title(\"Price vs Points\", fontsize=20)\n",
    "# g.set_xlabel(\"Price\", fontsize=20)\n",
    "# g.set_ylabel(\"Points\", fontsize=20)\n",
    "\n",
    "\n",
    "# # Using the following graph will show us the distribution relation between those two columns but as before,\n",
    "# # it won't be informative enough.\n",
    "\n",
    "# price_98 = df['price'].quantile(0.98)\n",
    "# df_98 = df[df['price'] <= price_98]\n",
    "\n",
    "# g = sns.scatterplot(x='price', y='points', hue='points', data=df_98)\n",
    "# g.set_title(\"Price vs Points\", fontsize=20)\n",
    "# g.set_xlabel(\"Price\", fontsize=20)\n",
    "# g.set_ylabel(\"Points\", fontsize=20)\n",
    "\n",
    "# # Therefor, we need to put the price under logarithmic scale.\n",
    "df['log_price'] = np.log(df['price'])\n",
    "plt.figure(figsize=(15, 10))\n",
    "sns.boxenplot(data = df, x=\"points\", y=\"log_price\", k_depth=\"trustworthy\")\n"
   ]
  },
  {
   "cell_type": "code",
   "execution_count": 8,
   "metadata": {},
   "outputs": [
    {
     "data": {
      "text/plain": [
       "Text(0.5, 1.0, 'Correlation Heatmap')"
      ]
     },
     "execution_count": 8,
     "metadata": {},
     "output_type": "execute_result"
    },
    {
     "data": {
      "image/png": "[encoded data removed]",
      "text/plain": [
       "<Figure size 400x400 with 2 Axes>"
      ]
     },
     "metadata": {},
     "output_type": "display_data"
    }
   ],
   "source": [
    "plt.figure(figsize=(4,4))\n",
    "corr = df[['log_price', 'points']].corr()\n",
    "sns.heatmap(corr, annot=True, cmap='coolwarm')\n",
    "plt.title('Correlation Heatmap')"
   ]
  },
  {
   "cell_type": "code",
   "execution_count": 9,
   "metadata": {},
   "outputs": [
    {
     "name": "stdout",
     "output_type": "stream",
     "text": [
      "0\n",
      "239\n"
     ]
    }
   ],
   "source": [
    "print(pd.isna(df['points']).sum())\n",
    "print(pd.isna(df['price']).sum())"
   ]
  },
  {
   "cell_type": "markdown",
   "metadata": {},
   "source": [
    "We can see here that those two features are **moderately correlated**."
   ]
  },
  {
   "cell_type": "code",
   "execution_count": 10,
   "metadata": {},
   "outputs": [],
   "source": [
    "# X = df['log_price'].fillna(int(df['log_price'].mean())).copy()\n",
    "X = df['price'].fillna(int(df['price'].mean())).copy()\n",
    "y = df['points'].copy()\n",
    "\n",
    "X_train, X_test, y_train, y_test = train_test_split(X,y, test_size = 0.20, random_state = 42, shuffle=False)\n",
    "X_train = X_train.values.reshape(-1, 1)\n",
    "X_test = X_test.values.reshape(-1, 1)"
   ]
  },
  {
   "cell_type": "code",
   "execution_count": 11,
   "metadata": {},
   "outputs": [
    {
     "name": "stdout",
     "output_type": "stream",
     "text": [
      "Optimal alpha:  1000.0\n"
     ]
    }
   ],
   "source": [
    "cv = KFold(n_splits=5)\n",
    "ridge_cv = RidgeCV(alphas=np.logspace(-3, 3, 10), cv=cv)\n",
    "\n",
    "ridge_cv.fit(X_train, y_train)\n",
    "\n",
    "print(\"Optimal alpha: \", ridge_cv.alpha_)"
   ]
  },
  {
   "cell_type": "code",
   "execution_count": 12,
   "metadata": {},
   "outputs": [
    {
     "name": "stdout",
     "output_type": "stream",
     "text": [
      "MSE train: 7.411, test: 9.015\n",
      "R^2 train: 0.224, test: 0.128\n",
      "Mean Absolute Error:  2.263283327736713\n"
     ]
    }
   ],
   "source": [
    "\n",
    "pipeline = make_pipeline(StandardScaler(), Ridge(alpha=1000.0))\n",
    "\n",
    "# pipeline = make_pipeline(StandardScaler(), LinearRegression())\n",
    "# pipeline = make_pipeline(StandardScaler(), Lasso(alpha = 0.021544346900318832))\n",
    "pipeline.fit(X_train, y_train)\n",
    "\n",
    "y_train_pred = pipeline.predict(X_train)\n",
    "y_test_pred = pipeline.predict(X_test)\n",
    "\n",
    "# Mean Squared Error\n",
    "print('MSE train: %.3f, test: %.3f' % (mean_squared_error(y_train, y_train_pred),\n",
    "                mean_squared_error(y_test, y_test_pred)))\n",
    "# R-Squared\n",
    "print('R^2 train: %.3f, test: %.3f' % (r2_score(y_train, y_train_pred), r2_score(y_test, y_test_pred)))\n",
    "\n",
    "mae = mean_absolute_error(y_test, y_test_pred)\n",
    "print(\"Mean Absolute Error: \", mae)"
   ]
  },
  {
   "cell_type": "markdown",
   "metadata": {},
   "source": [
    "* The mean squared error (**MSE**) is a measure of the average difference between the predicted and actual values. Lower MSE values indicate that the model is making better predictions.\n",
    "\n",
    "* The **R-squared** value, also known as the coefficient of determination, is a measure of how well the model is able to explain the variability in the target variable. It ranges from 0 to 1, with higher values indicating a better fit. A value of 1 means that the model explains all the variability in the target variable, while a value of 0 means that the model does not explain any of the variability in the target variable.\n",
    "\n",
    "* Mean Absolute Error (**MAE**) is a measure of the average magnitude of the errors in a set of predictions, without considering their direction. It is the average over the test sample of the absolute differences between prediction and actual observation where all individual differences have equal weight."
   ]
  },
  {
   "cell_type": "markdown",
   "metadata": {},
   "source": [
    "1.2 Creating a simple text-based model using a bag-of-words approach and a linear model.\n"
   ]
  },
  {
   "cell_type": "code",
   "execution_count": 13,
   "metadata": {},
   "outputs": [
    {
     "data": {
      "text/html": [
       "<div>\n",
       "<style scoped>\n",
       "    .dataframe tbody tr th:only-of-type {\n",
       "        vertical-align: middle;\n",
       "    }\n",
       "\n",
       "    .dataframe tbody tr th {\n",
       "        vertical-align: top;\n",
       "    }\n",
       "\n",
       "    .dataframe thead th {\n",
       "        text-align: right;\n",
       "    }\n",
       "</style>\n",
       "<table border=\"1\" class=\"dataframe\">\n",
       "  <thead>\n",
       "    <tr style=\"text-align: right;\">\n",
       "      <th></th>\n",
       "      <th>count</th>\n",
       "      <th>unique</th>\n",
       "      <th>top</th>\n",
       "      <th>freq</th>\n",
       "      <th>mean</th>\n",
       "      <th>std</th>\n",
       "      <th>min</th>\n",
       "      <th>25%</th>\n",
       "      <th>50%</th>\n",
       "      <th>75%</th>\n",
       "      <th>max</th>\n",
       "    </tr>\n",
       "  </thead>\n",
       "  <tbody>\n",
       "    <tr>\n",
       "      <th>Unnamed: 0</th>\n",
       "      <td>54504.0</td>\n",
       "      <td>NaN</td>\n",
       "      <td>NaN</td>\n",
       "      <td>NaN</td>\n",
       "      <td>65467.828563</td>\n",
       "      <td>37572.539161</td>\n",
       "      <td>2.0</td>\n",
       "      <td>33067.75</td>\n",
       "      <td>65678.5</td>\n",
       "      <td>98191.25</td>\n",
       "      <td>129967.0</td>\n",
       "    </tr>\n",
       "    <tr>\n",
       "      <th>country</th>\n",
       "      <td>54504</td>\n",
       "      <td>1</td>\n",
       "      <td>US</td>\n",
       "      <td>54504</td>\n",
       "      <td>NaN</td>\n",
       "      <td>NaN</td>\n",
       "      <td>NaN</td>\n",
       "      <td>NaN</td>\n",
       "      <td>NaN</td>\n",
       "      <td>NaN</td>\n",
       "      <td>NaN</td>\n",
       "    </tr>\n",
       "    <tr>\n",
       "      <th>description</th>\n",
       "      <td>54504</td>\n",
       "      <td>50449</td>\n",
       "      <td>Cigar box, café au lait, and dried tobacco aro...</td>\n",
       "      <td>3</td>\n",
       "      <td>NaN</td>\n",
       "      <td>NaN</td>\n",
       "      <td>NaN</td>\n",
       "      <td>NaN</td>\n",
       "      <td>NaN</td>\n",
       "      <td>NaN</td>\n",
       "      <td>NaN</td>\n",
       "    </tr>\n",
       "    <tr>\n",
       "      <th>designation</th>\n",
       "      <td>36908</td>\n",
       "      <td>14183</td>\n",
       "      <td>Reserve</td>\n",
       "      <td>1485</td>\n",
       "      <td>NaN</td>\n",
       "      <td>NaN</td>\n",
       "      <td>NaN</td>\n",
       "      <td>NaN</td>\n",
       "      <td>NaN</td>\n",
       "      <td>NaN</td>\n",
       "      <td>NaN</td>\n",
       "    </tr>\n",
       "    <tr>\n",
       "      <th>points</th>\n",
       "      <td>54504.0</td>\n",
       "      <td>NaN</td>\n",
       "      <td>NaN</td>\n",
       "      <td>NaN</td>\n",
       "      <td>88.56372</td>\n",
       "      <td>3.11484</td>\n",
       "      <td>80.0</td>\n",
       "      <td>86.0</td>\n",
       "      <td>88.0</td>\n",
       "      <td>91.0</td>\n",
       "      <td>100.0</td>\n",
       "    </tr>\n",
       "    <tr>\n",
       "      <th>price</th>\n",
       "      <td>54265.0</td>\n",
       "      <td>NaN</td>\n",
       "      <td>NaN</td>\n",
       "      <td>NaN</td>\n",
       "      <td>36.573464</td>\n",
       "      <td>27.088857</td>\n",
       "      <td>4.0</td>\n",
       "      <td>20.0</td>\n",
       "      <td>30.0</td>\n",
       "      <td>45.0</td>\n",
       "      <td>2013.0</td>\n",
       "    </tr>\n",
       "    <tr>\n",
       "      <th>province</th>\n",
       "      <td>54504</td>\n",
       "      <td>27</td>\n",
       "      <td>California</td>\n",
       "      <td>36247</td>\n",
       "      <td>NaN</td>\n",
       "      <td>NaN</td>\n",
       "      <td>NaN</td>\n",
       "      <td>NaN</td>\n",
       "      <td>NaN</td>\n",
       "      <td>NaN</td>\n",
       "      <td>NaN</td>\n",
       "    </tr>\n",
       "    <tr>\n",
       "      <th>region_1</th>\n",
       "      <td>54226</td>\n",
       "      <td>264</td>\n",
       "      <td>Napa Valley</td>\n",
       "      <td>4480</td>\n",
       "      <td>NaN</td>\n",
       "      <td>NaN</td>\n",
       "      <td>NaN</td>\n",
       "      <td>NaN</td>\n",
       "      <td>NaN</td>\n",
       "      <td>NaN</td>\n",
       "      <td>NaN</td>\n",
       "    </tr>\n",
       "    <tr>\n",
       "      <th>region_2</th>\n",
       "      <td>50511</td>\n",
       "      <td>17</td>\n",
       "      <td>Central Coast</td>\n",
       "      <td>11065</td>\n",
       "      <td>NaN</td>\n",
       "      <td>NaN</td>\n",
       "      <td>NaN</td>\n",
       "      <td>NaN</td>\n",
       "      <td>NaN</td>\n",
       "      <td>NaN</td>\n",
       "      <td>NaN</td>\n",
       "    </tr>\n",
       "    <tr>\n",
       "      <th>taster_name</th>\n",
       "      <td>37730</td>\n",
       "      <td>15</td>\n",
       "      <td>Virginie Boone</td>\n",
       "      <td>9537</td>\n",
       "      <td>NaN</td>\n",
       "      <td>NaN</td>\n",
       "      <td>NaN</td>\n",
       "      <td>NaN</td>\n",
       "      <td>NaN</td>\n",
       "      <td>NaN</td>\n",
       "      <td>NaN</td>\n",
       "    </tr>\n",
       "    <tr>\n",
       "      <th>taster_twitter_handle</th>\n",
       "      <td>34741</td>\n",
       "      <td>12</td>\n",
       "      <td>@vboone</td>\n",
       "      <td>9537</td>\n",
       "      <td>NaN</td>\n",
       "      <td>NaN</td>\n",
       "      <td>NaN</td>\n",
       "      <td>NaN</td>\n",
       "      <td>NaN</td>\n",
       "      <td>NaN</td>\n",
       "      <td>NaN</td>\n",
       "    </tr>\n",
       "    <tr>\n",
       "      <th>title</th>\n",
       "      <td>54504</td>\n",
       "      <td>50229</td>\n",
       "      <td>Gloria Ferrer NV Sonoma Brut Sparkling (Sonoma...</td>\n",
       "      <td>11</td>\n",
       "      <td>NaN</td>\n",
       "      <td>NaN</td>\n",
       "      <td>NaN</td>\n",
       "      <td>NaN</td>\n",
       "      <td>NaN</td>\n",
       "      <td>NaN</td>\n",
       "      <td>NaN</td>\n",
       "    </tr>\n",
       "    <tr>\n",
       "      <th>variety</th>\n",
       "      <td>54504</td>\n",
       "      <td>257</td>\n",
       "      <td>Pinot Noir</td>\n",
       "      <td>9885</td>\n",
       "      <td>NaN</td>\n",
       "      <td>NaN</td>\n",
       "      <td>NaN</td>\n",
       "      <td>NaN</td>\n",
       "      <td>NaN</td>\n",
       "      <td>NaN</td>\n",
       "      <td>NaN</td>\n",
       "    </tr>\n",
       "    <tr>\n",
       "      <th>winery</th>\n",
       "      <td>54504</td>\n",
       "      <td>5375</td>\n",
       "      <td>Testarossa</td>\n",
       "      <td>218</td>\n",
       "      <td>NaN</td>\n",
       "      <td>NaN</td>\n",
       "      <td>NaN</td>\n",
       "      <td>NaN</td>\n",
       "      <td>NaN</td>\n",
       "      <td>NaN</td>\n",
       "      <td>NaN</td>\n",
       "    </tr>\n",
       "    <tr>\n",
       "      <th>log_price</th>\n",
       "      <td>54265.0</td>\n",
       "      <td>NaN</td>\n",
       "      <td>NaN</td>\n",
       "      <td>NaN</td>\n",
       "      <td>3.425135</td>\n",
       "      <td>0.575274</td>\n",
       "      <td>1.386294</td>\n",
       "      <td>2.995732</td>\n",
       "      <td>3.401197</td>\n",
       "      <td>3.806662</td>\n",
       "      <td>7.607381</td>\n",
       "    </tr>\n",
       "  </tbody>\n",
       "</table>\n",
       "</div>"
      ],
      "text/plain": [
       "                         count unique  \\\n",
       "Unnamed: 0             54504.0    NaN   \n",
       "country                  54504      1   \n",
       "description              54504  50449   \n",
       "designation              36908  14183   \n",
       "points                 54504.0    NaN   \n",
       "price                  54265.0    NaN   \n",
       "province                 54504     27   \n",
       "region_1                 54226    264   \n",
       "region_2                 50511     17   \n",
       "taster_name              37730     15   \n",
       "taster_twitter_handle    34741     12   \n",
       "title                    54504  50229   \n",
       "variety                  54504    257   \n",
       "winery                   54504   5375   \n",
       "log_price              54265.0    NaN   \n",
       "\n",
       "                                                                     top  \\\n",
       "Unnamed: 0                                                           NaN   \n",
       "country                                                               US   \n",
       "description            Cigar box, café au lait, and dried tobacco aro...   \n",
       "designation                                                      Reserve   \n",
       "points                                                               NaN   \n",
       "price                                                                NaN   \n",
       "province                                                      California   \n",
       "region_1                                                     Napa Valley   \n",
       "region_2                                                   Central Coast   \n",
       "taster_name                                               Virginie Boone   \n",
       "taster_twitter_handle                                            @vboone   \n",
       "title                  Gloria Ferrer NV Sonoma Brut Sparkling (Sonoma...   \n",
       "variety                                                       Pinot Noir   \n",
       "winery                                                        Testarossa   \n",
       "log_price                                                            NaN   \n",
       "\n",
       "                        freq          mean           std       min       25%  \\\n",
       "Unnamed: 0               NaN  65467.828563  37572.539161       2.0  33067.75   \n",
       "country                54504           NaN           NaN       NaN       NaN   \n",
       "description                3           NaN           NaN       NaN       NaN   \n",
       "designation             1485           NaN           NaN       NaN       NaN   \n",
       "points                   NaN      88.56372       3.11484      80.0      86.0   \n",
       "price                    NaN     36.573464     27.088857       4.0      20.0   \n",
       "province               36247           NaN           NaN       NaN       NaN   \n",
       "region_1                4480           NaN           NaN       NaN       NaN   \n",
       "region_2               11065           NaN           NaN       NaN       NaN   \n",
       "taster_name             9537           NaN           NaN       NaN       NaN   \n",
       "taster_twitter_handle   9537           NaN           NaN       NaN       NaN   \n",
       "title                     11           NaN           NaN       NaN       NaN   \n",
       "variety                 9885           NaN           NaN       NaN       NaN   \n",
       "winery                   218           NaN           NaN       NaN       NaN   \n",
       "log_price                NaN      3.425135      0.575274  1.386294  2.995732   \n",
       "\n",
       "                            50%       75%       max  \n",
       "Unnamed: 0              65678.5  98191.25  129967.0  \n",
       "country                     NaN       NaN       NaN  \n",
       "description                 NaN       NaN       NaN  \n",
       "designation                 NaN       NaN       NaN  \n",
       "points                     88.0      91.0     100.0  \n",
       "price                      30.0      45.0    2013.0  \n",
       "province                    NaN       NaN       NaN  \n",
       "region_1                    NaN       NaN       NaN  \n",
       "region_2                    NaN       NaN       NaN  \n",
       "taster_name                 NaN       NaN       NaN  \n",
       "taster_twitter_handle       NaN       NaN       NaN  \n",
       "title                       NaN       NaN       NaN  \n",
       "variety                     NaN       NaN       NaN  \n",
       "winery                      NaN       NaN       NaN  \n",
       "log_price              3.401197  3.806662  7.607381  "
      ]
     },
     "execution_count": 13,
     "metadata": {},
     "output_type": "execute_result"
    }
   ],
   "source": [
    "df.describe(include='all').T"
   ]
  },
  {
   "cell_type": "code",
   "execution_count": 14,
   "metadata": {},
   "outputs": [
    {
     "data": {
      "text/plain": [
       "array(['Willamette Valley', nan, 'Napa', 'Sonoma', 'Central Coast',\n",
       "       'Oregon Other', 'Central Valley', 'North Coast', 'Columbia Valley',\n",
       "       'California Other', 'Finger Lakes', 'Sierra Foothills',\n",
       "       'New York Other', 'Long Island', 'Napa-Sonoma', 'Southern Oregon',\n",
       "       'Washington Other', 'South Coast'], dtype=object)"
      ]
     },
     "execution_count": 14,
     "metadata": {},
     "output_type": "execute_result"
    }
   ],
   "source": [
    "df.region_2.unique()"
   ]
  },
  {
   "cell_type": "code",
   "execution_count": 15,
   "metadata": {},
   "outputs": [
    {
     "data": {
      "text/plain": [
       "region_1\n",
       "Adelaida District      0.470221\n",
       "Alexander Valley       0.529854\n",
       "Alta Mesa              0.509119\n",
       "Amador County          0.346462\n",
       "Amador-Napa            1.000000\n",
       "                         ...   \n",
       "Yamhill County        -1.000000\n",
       "Yolo County            0.246209\n",
       "York Mountain          0.659922\n",
       "Yorkville Highlands    0.543442\n",
       "Yountville             0.507209\n",
       "Name: (points, price), Length: 264, dtype: float64"
      ]
     },
     "execution_count": 15,
     "metadata": {},
     "output_type": "execute_result"
    }
   ],
   "source": [
    "# The following code calculates the correlation between points and price, grouped by region_2\n",
    "df.groupby('region_1')[['points','price']].corr().unstack().iloc[:,1]"
   ]
  },
  {
   "cell_type": "code",
   "execution_count": 16,
   "metadata": {},
   "outputs": [],
   "source": [
    "red_df = df.copy()\n",
    "\n",
    "from textblob import TextBlob\n",
    "\n",
    "def sentiment_score(text):\n",
    "    return TextBlob(text).sentiment.polarity\n",
    "\n",
    "red_df['title_sentiment'] = red_df['title'].apply(sentiment_score)\n",
    "red_df['description_sentiment'] = red_df['description'].apply(sentiment_score)\n",
    "\n",
    "# maybe try BOW on title later, many times it includes the 'variety' inside the title\n",
    "red_df.drop(columns=['Unnamed: 0','country','region_1','designation','region_2','taster_twitter_handle',\n",
    "                    'title','winery','log_price'],inplace=True)"
   ]
  },
  {
   "cell_type": "code",
   "execution_count": 17,
   "metadata": {},
   "outputs": [
    {
     "data": {
      "text/html": [
       "<div>\n",
       "<style scoped>\n",
       "    .dataframe tbody tr th:only-of-type {\n",
       "        vertical-align: middle;\n",
       "    }\n",
       "\n",
       "    .dataframe tbody tr th {\n",
       "        vertical-align: top;\n",
       "    }\n",
       "\n",
       "    .dataframe thead th {\n",
       "        text-align: right;\n",
       "    }\n",
       "</style>\n",
       "<table border=\"1\" class=\"dataframe\">\n",
       "  <thead>\n",
       "    <tr style=\"text-align: right;\">\n",
       "      <th></th>\n",
       "      <th>description</th>\n",
       "      <th>points</th>\n",
       "      <th>price</th>\n",
       "      <th>province</th>\n",
       "      <th>taster_name</th>\n",
       "      <th>variety</th>\n",
       "      <th>title_sentiment</th>\n",
       "      <th>description_sentiment</th>\n",
       "    </tr>\n",
       "  </thead>\n",
       "  <tbody>\n",
       "    <tr>\n",
       "      <th>2</th>\n",
       "      <td>Tart and snappy, the flavors of lime flesh and...</td>\n",
       "      <td>87</td>\n",
       "      <td>14.0</td>\n",
       "      <td>Oregon</td>\n",
       "      <td>Paul Gregutt</td>\n",
       "      <td>Pinot Gris</td>\n",
       "      <td>0.000</td>\n",
       "      <td>0.025000</td>\n",
       "    </tr>\n",
       "    <tr>\n",
       "      <th>3</th>\n",
       "      <td>Pineapple rind, lemon pith and orange blossom ...</td>\n",
       "      <td>87</td>\n",
       "      <td>13.0</td>\n",
       "      <td>Michigan</td>\n",
       "      <td>Alexander Peartree</td>\n",
       "      <td>Riesling</td>\n",
       "      <td>-0.300</td>\n",
       "      <td>0.166667</td>\n",
       "    </tr>\n",
       "    <tr>\n",
       "      <th>4</th>\n",
       "      <td>Much like the regular bottling from 2012, this...</td>\n",
       "      <td>87</td>\n",
       "      <td>65.0</td>\n",
       "      <td>Oregon</td>\n",
       "      <td>Paul Gregutt</td>\n",
       "      <td>Pinot Noir</td>\n",
       "      <td>0.225</td>\n",
       "      <td>0.306667</td>\n",
       "    </tr>\n",
       "    <tr>\n",
       "      <th>10</th>\n",
       "      <td>Soft, supple plum envelopes an oaky structure ...</td>\n",
       "      <td>87</td>\n",
       "      <td>19.0</td>\n",
       "      <td>California</td>\n",
       "      <td>Virginie Boone</td>\n",
       "      <td>Cabernet Sauvignon</td>\n",
       "      <td>0.000</td>\n",
       "      <td>0.358333</td>\n",
       "    </tr>\n",
       "    <tr>\n",
       "      <th>12</th>\n",
       "      <td>Slightly reduced, this wine offers a chalky, t...</td>\n",
       "      <td>87</td>\n",
       "      <td>34.0</td>\n",
       "      <td>California</td>\n",
       "      <td>Virginie Boone</td>\n",
       "      <td>Cabernet Sauvignon</td>\n",
       "      <td>0.000</td>\n",
       "      <td>0.023611</td>\n",
       "    </tr>\n",
       "  </tbody>\n",
       "</table>\n",
       "</div>"
      ],
      "text/plain": [
       "                                          description  points  price  \\\n",
       "2   Tart and snappy, the flavors of lime flesh and...      87   14.0   \n",
       "3   Pineapple rind, lemon pith and orange blossom ...      87   13.0   \n",
       "4   Much like the regular bottling from 2012, this...      87   65.0   \n",
       "10  Soft, supple plum envelopes an oaky structure ...      87   19.0   \n",
       "12  Slightly reduced, this wine offers a chalky, t...      87   34.0   \n",
       "\n",
       "      province         taster_name             variety  title_sentiment  \\\n",
       "2       Oregon        Paul Gregutt          Pinot Gris            0.000   \n",
       "3     Michigan  Alexander Peartree            Riesling           -0.300   \n",
       "4       Oregon        Paul Gregutt          Pinot Noir            0.225   \n",
       "10  California      Virginie Boone  Cabernet Sauvignon            0.000   \n",
       "12  California      Virginie Boone  Cabernet Sauvignon            0.000   \n",
       "\n",
       "    description_sentiment  \n",
       "2                0.025000  \n",
       "3                0.166667  \n",
       "4                0.306667  \n",
       "10               0.358333  \n",
       "12               0.023611  "
      ]
     },
     "execution_count": 17,
     "metadata": {},
     "output_type": "execute_result"
    }
   ],
   "source": [
    "red_df.head()"
   ]
  },
  {
   "cell_type": "code",
   "execution_count": 18,
   "metadata": {},
   "outputs": [
    {
     "name": "stderr",
     "output_type": "stream",
     "text": [
      "[nltk_data] Downloading package stopwords to\n",
      "[nltk_data]     /Users/desislavamarvakov/nltk_data...\n",
      "[nltk_data]   Package stopwords is already up-to-date!\n",
      "[nltk_data] Downloading package wordnet to\n",
      "[nltk_data]     /Users/desislavamarvakov/nltk_data...\n",
      "[nltk_data]   Package wordnet is already up-to-date!\n"
     ]
    },
    {
     "data": {
      "text/plain": [
       "True"
      ]
     },
     "execution_count": 18,
     "metadata": {},
     "output_type": "execute_result"
    }
   ],
   "source": [
    "import nltk\n",
    "nltk.download('stopwords') \n",
    "nltk.download('wordnet')"
   ]
  },
  {
   "cell_type": "code",
   "execution_count": 20,
   "metadata": {},
   "outputs": [
    {
     "data": {
      "text/html": [
       "<div>\n",
       "<style scoped>\n",
       "    .dataframe tbody tr th:only-of-type {\n",
       "        vertical-align: middle;\n",
       "    }\n",
       "\n",
       "    .dataframe tbody tr th {\n",
       "        vertical-align: top;\n",
       "    }\n",
       "\n",
       "    .dataframe thead th {\n",
       "        text-align: right;\n",
       "    }\n",
       "</style>\n",
       "<table border=\"1\" class=\"dataframe\">\n",
       "  <thead>\n",
       "    <tr style=\"text-align: right;\">\n",
       "      <th></th>\n",
       "      <th>description</th>\n",
       "      <th>points</th>\n",
       "      <th>price</th>\n",
       "      <th>province</th>\n",
       "      <th>taster_name</th>\n",
       "      <th>variety</th>\n",
       "      <th>title_sentiment</th>\n",
       "      <th>description_sentiment</th>\n",
       "    </tr>\n",
       "  </thead>\n",
       "  <tbody>\n",
       "    <tr>\n",
       "      <th>2</th>\n",
       "      <td>Tart and snappy, the flavors of lime flesh and...</td>\n",
       "      <td>87</td>\n",
       "      <td>14.0</td>\n",
       "      <td>Oregon</td>\n",
       "      <td>Paul Gregutt</td>\n",
       "      <td>Pinot Gris</td>\n",
       "      <td>0.000</td>\n",
       "      <td>0.025000</td>\n",
       "    </tr>\n",
       "    <tr>\n",
       "      <th>3</th>\n",
       "      <td>Pineapple rind, lemon pith and orange blossom ...</td>\n",
       "      <td>87</td>\n",
       "      <td>13.0</td>\n",
       "      <td>Michigan</td>\n",
       "      <td>Alexander Peartree</td>\n",
       "      <td>Riesling</td>\n",
       "      <td>-0.300</td>\n",
       "      <td>0.166667</td>\n",
       "    </tr>\n",
       "    <tr>\n",
       "      <th>4</th>\n",
       "      <td>Much like the regular bottling from 2012, this...</td>\n",
       "      <td>87</td>\n",
       "      <td>65.0</td>\n",
       "      <td>Oregon</td>\n",
       "      <td>Paul Gregutt</td>\n",
       "      <td>Pinot Noir</td>\n",
       "      <td>0.225</td>\n",
       "      <td>0.306667</td>\n",
       "    </tr>\n",
       "    <tr>\n",
       "      <th>10</th>\n",
       "      <td>Soft, supple plum envelopes an oaky structure ...</td>\n",
       "      <td>87</td>\n",
       "      <td>19.0</td>\n",
       "      <td>California</td>\n",
       "      <td>Virginie Boone</td>\n",
       "      <td>Cabernet Sauvignon</td>\n",
       "      <td>0.000</td>\n",
       "      <td>0.358333</td>\n",
       "    </tr>\n",
       "    <tr>\n",
       "      <th>12</th>\n",
       "      <td>Slightly reduced, this wine offers a chalky, t...</td>\n",
       "      <td>87</td>\n",
       "      <td>34.0</td>\n",
       "      <td>California</td>\n",
       "      <td>Virginie Boone</td>\n",
       "      <td>Cabernet Sauvignon</td>\n",
       "      <td>0.000</td>\n",
       "      <td>0.023611</td>\n",
       "    </tr>\n",
       "  </tbody>\n",
       "</table>\n",
       "</div>"
      ],
      "text/plain": [
       "                                          description  points  price  \\\n",
       "2   Tart and snappy, the flavors of lime flesh and...      87   14.0   \n",
       "3   Pineapple rind, lemon pith and orange blossom ...      87   13.0   \n",
       "4   Much like the regular bottling from 2012, this...      87   65.0   \n",
       "10  Soft, supple plum envelopes an oaky structure ...      87   19.0   \n",
       "12  Slightly reduced, this wine offers a chalky, t...      87   34.0   \n",
       "\n",
       "      province         taster_name             variety  title_sentiment  \\\n",
       "2       Oregon        Paul Gregutt          Pinot Gris            0.000   \n",
       "3     Michigan  Alexander Peartree            Riesling           -0.300   \n",
       "4       Oregon        Paul Gregutt          Pinot Noir            0.225   \n",
       "10  California      Virginie Boone  Cabernet Sauvignon            0.000   \n",
       "12  California      Virginie Boone  Cabernet Sauvignon            0.000   \n",
       "\n",
       "    description_sentiment  \n",
       "2                0.025000  \n",
       "3                0.166667  \n",
       "4                0.306667  \n",
       "10               0.358333  \n",
       "12               0.023611  "
      ]
     },
     "execution_count": 20,
     "metadata": {},
     "output_type": "execute_result"
    }
   ],
   "source": [
    "red_df.head()"
   ]
  },
  {
   "cell_type": "code",
   "execution_count": 21,
   "metadata": {},
   "outputs": [],
   "source": [
    "y = red_df['points'].copy()\n",
    "X = red_df.drop(columns=['points']).copy()\n"
   ]
  },
  {
   "cell_type": "code",
   "execution_count": 22,
   "metadata": {},
   "outputs": [],
   "source": [
    "# !pip install textblob"
   ]
  },
  {
   "cell_type": "code",
   "execution_count": 23,
   "metadata": {},
   "outputs": [],
   "source": [
    "## create stopwords\n",
    "lst_stopwords = nltk.corpus.stopwords.words(\"english\")\n",
    "## add words that are too frequent\n",
    "lst_stopwords = lst_stopwords + [\"cnn\",\"say\",\"said\",\"new\"]\n",
    "\n",
    "## cleaning function\n",
    "def utils_preprocess_text(txt, punkt=True, lower=True, slang=True, lst_stopwords=None, stemm=False, lemm=True):\n",
    "    ### separate sentences with '. '\n",
    "    txt = re.sub(r'\\.(?=[^ \\W\\d])', '. ', str(txt))\n",
    "    ### remove punctuations and characters\n",
    "    txt = re.sub(r'[^\\w\\s]', '', txt) if punkt is True else txt\n",
    "    ### strip\n",
    "    txt = \" \".join([word.strip() for word in txt.split()])\n",
    "    ### lowercase\n",
    "    txt = txt.lower() if lower is True else txt\n",
    "    ### slang\n",
    "    txt = contractions.fix(txt) if slang is True else txt   \n",
    "    ### tokenize (convert from string to list)\n",
    "    lst_txt = txt.split()\n",
    "    ### stemming (remove -ing, -ly, ...)\n",
    "    if stemm is True:\n",
    "        ps = nltk.stem.porter.PorterStemmer()\n",
    "        lst_txt = [ps.stem(word) for word in lst_txt]\n",
    "    ### lemmatization (convert the word into root word)\n",
    "    if lemm is True:\n",
    "        lem = nltk.stem.wordnet.WordNetLemmatizer()\n",
    "        lst_txt = [lem.lemmatize(word) for word in lst_txt]\n",
    "    ### remove Stopwords\n",
    "    if lst_stopwords is not None:\n",
    "        lst_txt = [word for word in lst_txt if word not in \n",
    "                   lst_stopwords]\n",
    "    ### back to string\n",
    "    txt = \" \".join(lst_txt)\n",
    "    return txt\n",
    "\n",
    "X[\"description\"] = X[\"description\"].apply(lambda x: utils_preprocess_text(x, punkt=True, lower=True,\n",
    "                                                                                slang=False, lst_stopwords=lst_stopwords,\n",
    "                                                                                stemm=False, lemm=True))\n"
   ]
  },
  {
   "cell_type": "code",
   "execution_count": 24,
   "metadata": {},
   "outputs": [
    {
     "data": {
      "text/html": [
       "<div>\n",
       "<style scoped>\n",
       "    .dataframe tbody tr th:only-of-type {\n",
       "        vertical-align: middle;\n",
       "    }\n",
       "\n",
       "    .dataframe tbody tr th {\n",
       "        vertical-align: top;\n",
       "    }\n",
       "\n",
       "    .dataframe thead th {\n",
       "        text-align: right;\n",
       "    }\n",
       "</style>\n",
       "<table border=\"1\" class=\"dataframe\">\n",
       "  <thead>\n",
       "    <tr style=\"text-align: right;\">\n",
       "      <th></th>\n",
       "      <th>description</th>\n",
       "      <th>price</th>\n",
       "      <th>province</th>\n",
       "      <th>taster_name</th>\n",
       "      <th>variety</th>\n",
       "      <th>title_sentiment</th>\n",
       "      <th>description_sentiment</th>\n",
       "    </tr>\n",
       "  </thead>\n",
       "  <tbody>\n",
       "    <tr>\n",
       "      <th>2</th>\n",
       "      <td>tart snappy flavor lime flesh rind dominate gr...</td>\n",
       "      <td>14.0</td>\n",
       "      <td>Oregon</td>\n",
       "      <td>Paul Gregutt</td>\n",
       "      <td>Pinot Gris</td>\n",
       "      <td>0.000</td>\n",
       "      <td>0.025000</td>\n",
       "    </tr>\n",
       "    <tr>\n",
       "      <th>3</th>\n",
       "      <td>pineapple rind lemon pith orange blossom start...</td>\n",
       "      <td>13.0</td>\n",
       "      <td>Michigan</td>\n",
       "      <td>Alexander Peartree</td>\n",
       "      <td>Riesling</td>\n",
       "      <td>-0.300</td>\n",
       "      <td>0.166667</td>\n",
       "    </tr>\n",
       "    <tr>\n",
       "      <th>4</th>\n",
       "      <td>much like regular bottling 2012 come across ra...</td>\n",
       "      <td>65.0</td>\n",
       "      <td>Oregon</td>\n",
       "      <td>Paul Gregutt</td>\n",
       "      <td>Pinot Noir</td>\n",
       "      <td>0.225</td>\n",
       "      <td>0.306667</td>\n",
       "    </tr>\n",
       "    <tr>\n",
       "      <th>10</th>\n",
       "      <td>soft supple plum envelope oaky structure caber...</td>\n",
       "      <td>19.0</td>\n",
       "      <td>California</td>\n",
       "      <td>Virginie Boone</td>\n",
       "      <td>Cabernet Sauvignon</td>\n",
       "      <td>0.000</td>\n",
       "      <td>0.358333</td>\n",
       "    </tr>\n",
       "    <tr>\n",
       "      <th>12</th>\n",
       "      <td>slightly reduced wine offer chalky tannic back...</td>\n",
       "      <td>34.0</td>\n",
       "      <td>California</td>\n",
       "      <td>Virginie Boone</td>\n",
       "      <td>Cabernet Sauvignon</td>\n",
       "      <td>0.000</td>\n",
       "      <td>0.023611</td>\n",
       "    </tr>\n",
       "  </tbody>\n",
       "</table>\n",
       "</div>"
      ],
      "text/plain": [
       "                                          description  price    province  \\\n",
       "2   tart snappy flavor lime flesh rind dominate gr...   14.0      Oregon   \n",
       "3   pineapple rind lemon pith orange blossom start...   13.0    Michigan   \n",
       "4   much like regular bottling 2012 come across ra...   65.0      Oregon   \n",
       "10  soft supple plum envelope oaky structure caber...   19.0  California   \n",
       "12  slightly reduced wine offer chalky tannic back...   34.0  California   \n",
       "\n",
       "           taster_name             variety  title_sentiment  \\\n",
       "2         Paul Gregutt          Pinot Gris            0.000   \n",
       "3   Alexander Peartree            Riesling           -0.300   \n",
       "4         Paul Gregutt          Pinot Noir            0.225   \n",
       "10      Virginie Boone  Cabernet Sauvignon            0.000   \n",
       "12      Virginie Boone  Cabernet Sauvignon            0.000   \n",
       "\n",
       "    description_sentiment  \n",
       "2                0.025000  \n",
       "3                0.166667  \n",
       "4                0.306667  \n",
       "10               0.358333  \n",
       "12               0.023611  "
      ]
     },
     "execution_count": 24,
     "metadata": {},
     "output_type": "execute_result"
    }
   ],
   "source": [
    "X.head()"
   ]
  },
  {
   "cell_type": "code",
   "execution_count": 25,
   "metadata": {},
   "outputs": [],
   "source": [
    "X_train, X_test, y_train, y_test = train_test_split(X,y, test_size = 0.20, random_state = 42, shuffle=False)"
   ]
  },
  {
   "cell_type": "code",
   "execution_count": 26,
   "metadata": {},
   "outputs": [
    {
     "data": {
      "text/html": [
       "<div>\n",
       "<style scoped>\n",
       "    .dataframe tbody tr th:only-of-type {\n",
       "        vertical-align: middle;\n",
       "    }\n",
       "\n",
       "    .dataframe tbody tr th {\n",
       "        vertical-align: top;\n",
       "    }\n",
       "\n",
       "    .dataframe thead th {\n",
       "        text-align: right;\n",
       "    }\n",
       "</style>\n",
       "<table border=\"1\" class=\"dataframe\">\n",
       "  <thead>\n",
       "    <tr style=\"text-align: right;\">\n",
       "      <th></th>\n",
       "      <th>description</th>\n",
       "      <th>price</th>\n",
       "      <th>province</th>\n",
       "      <th>taster_name</th>\n",
       "      <th>variety</th>\n",
       "      <th>title_sentiment</th>\n",
       "      <th>description_sentiment</th>\n",
       "    </tr>\n",
       "  </thead>\n",
       "  <tbody>\n",
       "    <tr>\n",
       "      <th>2</th>\n",
       "      <td>tart snappy flavor lime flesh rind dominate gr...</td>\n",
       "      <td>14.0</td>\n",
       "      <td>Oregon</td>\n",
       "      <td>Paul Gregutt</td>\n",
       "      <td>Pinot Gris</td>\n",
       "      <td>0.000</td>\n",
       "      <td>0.025000</td>\n",
       "    </tr>\n",
       "    <tr>\n",
       "      <th>3</th>\n",
       "      <td>pineapple rind lemon pith orange blossom start...</td>\n",
       "      <td>13.0</td>\n",
       "      <td>Michigan</td>\n",
       "      <td>Alexander Peartree</td>\n",
       "      <td>Riesling</td>\n",
       "      <td>-0.300</td>\n",
       "      <td>0.166667</td>\n",
       "    </tr>\n",
       "    <tr>\n",
       "      <th>4</th>\n",
       "      <td>much like regular bottling 2012 come across ra...</td>\n",
       "      <td>65.0</td>\n",
       "      <td>Oregon</td>\n",
       "      <td>Paul Gregutt</td>\n",
       "      <td>Pinot Noir</td>\n",
       "      <td>0.225</td>\n",
       "      <td>0.306667</td>\n",
       "    </tr>\n",
       "    <tr>\n",
       "      <th>10</th>\n",
       "      <td>soft supple plum envelope oaky structure caber...</td>\n",
       "      <td>19.0</td>\n",
       "      <td>California</td>\n",
       "      <td>Virginie Boone</td>\n",
       "      <td>Cabernet Sauvignon</td>\n",
       "      <td>0.000</td>\n",
       "      <td>0.358333</td>\n",
       "    </tr>\n",
       "    <tr>\n",
       "      <th>12</th>\n",
       "      <td>slightly reduced wine offer chalky tannic back...</td>\n",
       "      <td>34.0</td>\n",
       "      <td>California</td>\n",
       "      <td>Virginie Boone</td>\n",
       "      <td>Cabernet Sauvignon</td>\n",
       "      <td>0.000</td>\n",
       "      <td>0.023611</td>\n",
       "    </tr>\n",
       "    <tr>\n",
       "      <th>...</th>\n",
       "      <td>...</td>\n",
       "      <td>...</td>\n",
       "      <td>...</td>\n",
       "      <td>...</td>\n",
       "      <td>...</td>\n",
       "      <td>...</td>\n",
       "      <td>...</td>\n",
       "    </tr>\n",
       "    <tr>\n",
       "      <th>104429</th>\n",
       "      <td>finding wine vineyard site price unheard reaso...</td>\n",
       "      <td>34.0</td>\n",
       "      <td>California</td>\n",
       "      <td>Virginie Boone</td>\n",
       "      <td>Sauvignon Blanc</td>\n",
       "      <td>0.000</td>\n",
       "      <td>0.133333</td>\n",
       "    </tr>\n",
       "    <tr>\n",
       "      <th>104430</th>\n",
       "      <td>blended small amount petit verdot cabernet fra...</td>\n",
       "      <td>60.0</td>\n",
       "      <td>California</td>\n",
       "      <td>Virginie Boone</td>\n",
       "      <td>Cabernet Sauvignon</td>\n",
       "      <td>0.000</td>\n",
       "      <td>0.237500</td>\n",
       "    </tr>\n",
       "    <tr>\n",
       "      <th>104431</th>\n",
       "      <td>light cranberry aroma meet turned loam cinnamo...</td>\n",
       "      <td>45.0</td>\n",
       "      <td>California</td>\n",
       "      <td>Matt Kettmann</td>\n",
       "      <td>Pinot Noir</td>\n",
       "      <td>0.000</td>\n",
       "      <td>0.143619</td>\n",
       "    </tr>\n",
       "    <tr>\n",
       "      <th>104433</th>\n",
       "      <td>exciting refreshing superbly balanced wine ha ...</td>\n",
       "      <td>14.0</td>\n",
       "      <td>California</td>\n",
       "      <td>Jim Gordon</td>\n",
       "      <td>Chenin Blanc</td>\n",
       "      <td>0.000</td>\n",
       "      <td>0.410795</td>\n",
       "    </tr>\n",
       "    <tr>\n",
       "      <th>104434</th>\n",
       "      <td>pale pink glass pinot noirbased rosé combine n...</td>\n",
       "      <td>23.0</td>\n",
       "      <td>California</td>\n",
       "      <td>Matt Kettmann</td>\n",
       "      <td>Pinot Noir</td>\n",
       "      <td>0.600</td>\n",
       "      <td>0.398333</td>\n",
       "    </tr>\n",
       "  </tbody>\n",
       "</table>\n",
       "<p>43603 rows × 7 columns</p>\n",
       "</div>"
      ],
      "text/plain": [
       "                                              description  price    province  \\\n",
       "2       tart snappy flavor lime flesh rind dominate gr...   14.0      Oregon   \n",
       "3       pineapple rind lemon pith orange blossom start...   13.0    Michigan   \n",
       "4       much like regular bottling 2012 come across ra...   65.0      Oregon   \n",
       "10      soft supple plum envelope oaky structure caber...   19.0  California   \n",
       "12      slightly reduced wine offer chalky tannic back...   34.0  California   \n",
       "...                                                   ...    ...         ...   \n",
       "104429  finding wine vineyard site price unheard reaso...   34.0  California   \n",
       "104430  blended small amount petit verdot cabernet fra...   60.0  California   \n",
       "104431  light cranberry aroma meet turned loam cinnamo...   45.0  California   \n",
       "104433  exciting refreshing superbly balanced wine ha ...   14.0  California   \n",
       "104434  pale pink glass pinot noirbased rosé combine n...   23.0  California   \n",
       "\n",
       "               taster_name             variety  title_sentiment  \\\n",
       "2             Paul Gregutt          Pinot Gris            0.000   \n",
       "3       Alexander Peartree            Riesling           -0.300   \n",
       "4             Paul Gregutt          Pinot Noir            0.225   \n",
       "10          Virginie Boone  Cabernet Sauvignon            0.000   \n",
       "12          Virginie Boone  Cabernet Sauvignon            0.000   \n",
       "...                    ...                 ...              ...   \n",
       "104429      Virginie Boone     Sauvignon Blanc            0.000   \n",
       "104430      Virginie Boone  Cabernet Sauvignon            0.000   \n",
       "104431       Matt Kettmann          Pinot Noir            0.000   \n",
       "104433          Jim Gordon        Chenin Blanc            0.000   \n",
       "104434       Matt Kettmann          Pinot Noir            0.600   \n",
       "\n",
       "        description_sentiment  \n",
       "2                    0.025000  \n",
       "3                    0.166667  \n",
       "4                    0.306667  \n",
       "10                   0.358333  \n",
       "12                   0.023611  \n",
       "...                       ...  \n",
       "104429               0.133333  \n",
       "104430               0.237500  \n",
       "104431               0.143619  \n",
       "104433               0.410795  \n",
       "104434               0.398333  \n",
       "\n",
       "[43603 rows x 7 columns]"
      ]
     },
     "execution_count": 26,
     "metadata": {},
     "output_type": "execute_result"
    }
   ],
   "source": [
    "X_train"
   ]
  },
  {
   "cell_type": "code",
   "execution_count": 28,
   "metadata": {},
   "outputs": [],
   "source": [
    "categorical_features = X_train.select_dtypes(include=object).columns.tolist()\n",
    "numeric_features = X_train.select_dtypes(include=np.number).columns.tolist()\n",
    "\n",
    "\n",
    "num_imputer = SimpleImputer(strategy='mean')\n",
    "\n",
    "num_imputer.fit(X_train[numeric_features])\n",
    "\n",
    "X_train[numeric_features] = num_imputer.transform(X_train[numeric_features])\n",
    "X_test[numeric_features] = num_imputer.transform(X_test[numeric_features])\n",
    "\n",
    "\n",
    "txt_imputer = SimpleImputer(strategy='constant',fill_value='missing')\n",
    "\n",
    "txt_imputer.fit(X_train[categorical_features])\n",
    "\n",
    "X_train[categorical_features] = txt_imputer.transform(X_train[categorical_features])\n",
    "X_test[categorical_features] = txt_imputer.transform(X_test[categorical_features])"
   ]
  },
  {
   "cell_type": "code",
   "execution_count": 29,
   "metadata": {},
   "outputs": [
    {
     "name": "stdout",
     "output_type": "stream",
     "text": [
      "<class 'pandas.core.frame.DataFrame'>\n",
      "Int64Index: 43603 entries, 2 to 104434\n",
      "Data columns (total 7 columns):\n",
      " #   Column                 Non-Null Count  Dtype  \n",
      "---  ------                 --------------  -----  \n",
      " 0   description            43603 non-null  object \n",
      " 1   price                  43603 non-null  float64\n",
      " 2   province               43603 non-null  object \n",
      " 3   taster_name            43603 non-null  object \n",
      " 4   variety                43603 non-null  object \n",
      " 5   title_sentiment        43603 non-null  float64\n",
      " 6   description_sentiment  43603 non-null  float64\n",
      "dtypes: float64(3), object(4)\n",
      "memory usage: 2.7+ MB\n"
     ]
    }
   ],
   "source": [
    "X_train.info()"
   ]
  },
  {
   "cell_type": "code",
   "execution_count": 30,
   "metadata": {},
   "outputs": [],
   "source": [
    "scaler = StandardScaler()\n",
    "scaler.fit(X_train[numeric_features])\n",
    "X_train[numeric_features] = scaler.transform(X_train[numeric_features])\n",
    "X_test[numeric_features] = scaler.transform(X_test[numeric_features])"
   ]
  },
  {
   "cell_type": "code",
   "execution_count": 31,
   "metadata": {},
   "outputs": [
    {
     "data": {
      "text/html": [
       "<div>\n",
       "<style scoped>\n",
       "    .dataframe tbody tr th:only-of-type {\n",
       "        vertical-align: middle;\n",
       "    }\n",
       "\n",
       "    .dataframe tbody tr th {\n",
       "        vertical-align: top;\n",
       "    }\n",
       "\n",
       "    .dataframe thead th {\n",
       "        text-align: right;\n",
       "    }\n",
       "</style>\n",
       "<table border=\"1\" class=\"dataframe\">\n",
       "  <thead>\n",
       "    <tr style=\"text-align: right;\">\n",
       "      <th></th>\n",
       "      <th>price</th>\n",
       "      <th>title_sentiment</th>\n",
       "      <th>description_sentiment</th>\n",
       "    </tr>\n",
       "  </thead>\n",
       "  <tbody>\n",
       "    <tr>\n",
       "      <th>2</th>\n",
       "      <td>-0.888613</td>\n",
       "      <td>-0.072962</td>\n",
       "      <td>-0.794409</td>\n",
       "    </tr>\n",
       "    <tr>\n",
       "      <th>3</th>\n",
       "      <td>-0.928294</td>\n",
       "      <td>-3.170890</td>\n",
       "      <td>0.030287</td>\n",
       "    </tr>\n",
       "    <tr>\n",
       "      <th>4</th>\n",
       "      <td>1.135131</td>\n",
       "      <td>2.250484</td>\n",
       "      <td>0.845280</td>\n",
       "    </tr>\n",
       "    <tr>\n",
       "      <th>10</th>\n",
       "      <td>-0.690207</td>\n",
       "      <td>-0.072962</td>\n",
       "      <td>1.146051</td>\n",
       "    </tr>\n",
       "    <tr>\n",
       "      <th>12</th>\n",
       "      <td>-0.094988</td>\n",
       "      <td>-0.072962</td>\n",
       "      <td>-0.802494</td>\n",
       "    </tr>\n",
       "  </tbody>\n",
       "</table>\n",
       "</div>"
      ],
      "text/plain": [
       "       price  title_sentiment  description_sentiment\n",
       "2  -0.888613        -0.072962              -0.794409\n",
       "3  -0.928294        -3.170890               0.030287\n",
       "4   1.135131         2.250484               0.845280\n",
       "10 -0.690207        -0.072962               1.146051\n",
       "12 -0.094988        -0.072962              -0.802494"
      ]
     },
     "execution_count": 31,
     "metadata": {},
     "output_type": "execute_result"
    }
   ],
   "source": [
    "X_train[numeric_features].head()"
   ]
  },
  {
   "cell_type": "code",
   "execution_count": 32,
   "metadata": {},
   "outputs": [],
   "source": [
    "X_train[\"text\"] = X_train[categorical_features].apply(lambda x: ' '.join(x), axis=1)\n",
    "X_test[\"text\"] = X_test[categorical_features].apply(lambda x: ' '.join(x), axis=1)\n",
    "\n",
    "vectorizer = CountVectorizer(min_df=0.01)\n",
    "\n",
    "# fit the vectorizer on the training data\n",
    "vectorizer.fit(X_train[\"text\"])\n",
    "\n",
    "# use the transform method to convert the training and test data to a sparse matrix\n",
    "X_train_matrix = vectorizer.transform(X_train[\"text\"])\n",
    "X_test_matrix = vectorizer.transform(X_test[\"text\"])\n",
    "\n",
    "X_train_matrix = pd.DataFrame(X_train_matrix.toarray(), columns=vectorizer.get_feature_names_out())\n",
    "X_test_matrix = pd.DataFrame(X_test_matrix.toarray(), columns=vectorizer.get_feature_names_out())"
   ]
  },
  {
   "cell_type": "code",
   "execution_count": 33,
   "metadata": {},
   "outputs": [
    {
     "data": {
      "text/html": [
       "<div>\n",
       "<style scoped>\n",
       "    .dataframe tbody tr th:only-of-type {\n",
       "        vertical-align: middle;\n",
       "    }\n",
       "\n",
       "    .dataframe tbody tr th {\n",
       "        vertical-align: top;\n",
       "    }\n",
       "\n",
       "    .dataframe thead th {\n",
       "        text-align: right;\n",
       "    }\n",
       "</style>\n",
       "<table border=\"1\" class=\"dataframe\">\n",
       "  <thead>\n",
       "    <tr style=\"text-align: right;\">\n",
       "      <th></th>\n",
       "      <th>10</th>\n",
       "      <th>100</th>\n",
       "      <th>20</th>\n",
       "      <th>2020</th>\n",
       "      <th>accent</th>\n",
       "      <th>accented</th>\n",
       "      <th>acid</th>\n",
       "      <th>acidic</th>\n",
       "      <th>acidity</th>\n",
       "      <th>add</th>\n",
       "      <th>...</th>\n",
       "      <th>yet</th>\n",
       "      <th>york</th>\n",
       "      <th>young</th>\n",
       "      <th>zest</th>\n",
       "      <th>zesty</th>\n",
       "      <th>zin</th>\n",
       "      <th>zinfandel</th>\n",
       "      <th>wine_price</th>\n",
       "      <th>title_sentiment</th>\n",
       "      <th>description_sentiment</th>\n",
       "    </tr>\n",
       "  </thead>\n",
       "  <tbody>\n",
       "    <tr>\n",
       "      <th>0</th>\n",
       "      <td>0</td>\n",
       "      <td>0</td>\n",
       "      <td>0</td>\n",
       "      <td>0</td>\n",
       "      <td>0</td>\n",
       "      <td>0</td>\n",
       "      <td>0</td>\n",
       "      <td>0</td>\n",
       "      <td>1</td>\n",
       "      <td>0</td>\n",
       "      <td>...</td>\n",
       "      <td>0</td>\n",
       "      <td>0</td>\n",
       "      <td>0</td>\n",
       "      <td>0</td>\n",
       "      <td>0</td>\n",
       "      <td>0</td>\n",
       "      <td>0</td>\n",
       "      <td>-0.888613</td>\n",
       "      <td>-0.072962</td>\n",
       "      <td>-0.794409</td>\n",
       "    </tr>\n",
       "    <tr>\n",
       "      <th>1</th>\n",
       "      <td>0</td>\n",
       "      <td>0</td>\n",
       "      <td>0</td>\n",
       "      <td>0</td>\n",
       "      <td>0</td>\n",
       "      <td>0</td>\n",
       "      <td>0</td>\n",
       "      <td>0</td>\n",
       "      <td>0</td>\n",
       "      <td>0</td>\n",
       "      <td>...</td>\n",
       "      <td>0</td>\n",
       "      <td>0</td>\n",
       "      <td>0</td>\n",
       "      <td>0</td>\n",
       "      <td>0</td>\n",
       "      <td>0</td>\n",
       "      <td>0</td>\n",
       "      <td>-0.928294</td>\n",
       "      <td>-3.170890</td>\n",
       "      <td>0.030287</td>\n",
       "    </tr>\n",
       "    <tr>\n",
       "      <th>2</th>\n",
       "      <td>0</td>\n",
       "      <td>0</td>\n",
       "      <td>0</td>\n",
       "      <td>0</td>\n",
       "      <td>0</td>\n",
       "      <td>0</td>\n",
       "      <td>0</td>\n",
       "      <td>0</td>\n",
       "      <td>0</td>\n",
       "      <td>0</td>\n",
       "      <td>...</td>\n",
       "      <td>0</td>\n",
       "      <td>0</td>\n",
       "      <td>0</td>\n",
       "      <td>0</td>\n",
       "      <td>0</td>\n",
       "      <td>0</td>\n",
       "      <td>0</td>\n",
       "      <td>1.135131</td>\n",
       "      <td>2.250484</td>\n",
       "      <td>0.845280</td>\n",
       "    </tr>\n",
       "    <tr>\n",
       "      <th>3</th>\n",
       "      <td>0</td>\n",
       "      <td>0</td>\n",
       "      <td>0</td>\n",
       "      <td>0</td>\n",
       "      <td>0</td>\n",
       "      <td>0</td>\n",
       "      <td>0</td>\n",
       "      <td>0</td>\n",
       "      <td>0</td>\n",
       "      <td>0</td>\n",
       "      <td>...</td>\n",
       "      <td>0</td>\n",
       "      <td>0</td>\n",
       "      <td>0</td>\n",
       "      <td>0</td>\n",
       "      <td>0</td>\n",
       "      <td>0</td>\n",
       "      <td>0</td>\n",
       "      <td>-0.690207</td>\n",
       "      <td>-0.072962</td>\n",
       "      <td>1.146051</td>\n",
       "    </tr>\n",
       "    <tr>\n",
       "      <th>4</th>\n",
       "      <td>0</td>\n",
       "      <td>0</td>\n",
       "      <td>0</td>\n",
       "      <td>0</td>\n",
       "      <td>0</td>\n",
       "      <td>1</td>\n",
       "      <td>0</td>\n",
       "      <td>0</td>\n",
       "      <td>0</td>\n",
       "      <td>0</td>\n",
       "      <td>...</td>\n",
       "      <td>0</td>\n",
       "      <td>0</td>\n",
       "      <td>0</td>\n",
       "      <td>0</td>\n",
       "      <td>0</td>\n",
       "      <td>0</td>\n",
       "      <td>0</td>\n",
       "      <td>-0.094988</td>\n",
       "      <td>-0.072962</td>\n",
       "      <td>-0.802494</td>\n",
       "    </tr>\n",
       "  </tbody>\n",
       "</table>\n",
       "<p>5 rows × 482 columns</p>\n",
       "</div>"
      ],
      "text/plain": [
       "   10  100  20  2020  accent  accented  acid  acidic  acidity  add  ...  yet  \\\n",
       "0   0    0   0     0       0         0     0       0        1    0  ...    0   \n",
       "1   0    0   0     0       0         0     0       0        0    0  ...    0   \n",
       "2   0    0   0     0       0         0     0       0        0    0  ...    0   \n",
       "3   0    0   0     0       0         0     0       0        0    0  ...    0   \n",
       "4   0    0   0     0       0         1     0       0        0    0  ...    0   \n",
       "\n",
       "   york  young  zest  zesty  zin  zinfandel  wine_price  title_sentiment  \\\n",
       "0     0      0     0      0    0          0   -0.888613        -0.072962   \n",
       "1     0      0     0      0    0          0   -0.928294        -3.170890   \n",
       "2     0      0     0      0    0          0    1.135131         2.250484   \n",
       "3     0      0     0      0    0          0   -0.690207        -0.072962   \n",
       "4     0      0     0      0    0          0   -0.094988        -0.072962   \n",
       "\n",
       "   description_sentiment  \n",
       "0              -0.794409  \n",
       "1               0.030287  \n",
       "2               0.845280  \n",
       "3               1.146051  \n",
       "4              -0.802494  \n",
       "\n",
       "[5 rows x 482 columns]"
      ]
     },
     "execution_count": 33,
     "metadata": {},
     "output_type": "execute_result"
    }
   ],
   "source": [
    "# Concatenate the countvectorized features dataframe with the numerical columns\n",
    "train_price = X_train[numeric_features].reset_index(drop=True).rename(columns={'price': 'wine_price'})\n",
    "X_train_final = pd.concat([X_train_matrix, pd.DataFrame(train_price)], axis=1)\n",
    "\n",
    "test_price = X_test[numeric_features].reset_index(drop=True).rename(columns={'price': 'wine_price'})\n",
    "X_test_final = pd.concat([X_test_matrix, pd.DataFrame(test_price)], axis=1)\n",
    "\n",
    "\n",
    "X_train_final.head()"
   ]
  },
  {
   "cell_type": "code",
   "execution_count": 34,
   "metadata": {},
   "outputs": [],
   "source": [
    "lrg = LinearRegression()\n",
    "\n",
    "lrg.fit(X_train_final, y_train)\n",
    "\n",
    "y_pred = lrg.predict(X_test_final)"
   ]
  },
  {
   "cell_type": "code",
   "execution_count": 35,
   "metadata": {},
   "outputs": [
    {
     "name": "stdout",
     "output_type": "stream",
     "text": [
      "Mean Squared Error:  3.740819111693423\n",
      "R2 Score:  0.6379456665388117\n"
     ]
    }
   ],
   "source": [
    "# Calculate the mean squared error\n",
    "mse = mean_squared_error(y_test, y_pred)\n",
    "print(\"Mean Squared Error: \", mse)\n",
    "\n",
    "# Calculate the R2 score\n",
    "r2 = r2_score(y_test, y_pred)\n",
    "print(\"R2 Score: \", r2)"
   ]
  },
  {
   "cell_type": "markdown",
   "metadata": {},
   "source": [
    "**GridSearchCV for Ridge**"
   ]
  },
  {
   "cell_type": "code",
   "execution_count": 303,
   "metadata": {},
   "outputs": [
    {
     "name": "stdout",
     "output_type": "stream",
     "text": [
      "Best alpha: 10.0\n"
     ]
    }
   ],
   "source": [
    "ridge = RidgeCV()\n",
    "param_grid = {'alphas': np.logspace(-3, 3, 7)}\n",
    "grid_search = GridSearchCV(ridge, param_grid, cv=5)\n",
    "grid_search.fit(X_train_final, y_train)\n",
    "\n",
    "best_alpha = grid_search.best_params_['alphas']\n",
    "print(f'Best alpha: {best_alpha}')"
   ]
  },
  {
   "cell_type": "code",
   "execution_count": 36,
   "metadata": {},
   "outputs": [
    {
     "name": "stdout",
     "output_type": "stream",
     "text": [
      "Train MSE: 3.2665\n",
      "Train R^2: 0.6577\n",
      "Train MAE: 1.4235 \n",
      "\n",
      "Test MSE: 3.7436\n",
      "Test R^2: 0.6377\n",
      "Test MAE: 1.4478\n"
     ]
    }
   ],
   "source": [
    "ridge = Ridge(alpha=10.0)\n",
    "ridge.fit(X_train_final, y_train)\n",
    "\n",
    "y_train_pred = ridge.predict(X_train_final)\n",
    "y_test_pred = ridge.predict(X_test_final)\n",
    "\n",
    "train_mse = mean_squared_error(y_train, y_train_pred)\n",
    "train_r2 = r2_score(y_train, y_train_pred)\n",
    "train_mae = mean_absolute_error(y_train, y_train_pred)\n",
    "\n",
    "test_mse = mean_squared_error(y_test, y_test_pred)\n",
    "test_r2 = r2_score(y_test, y_test_pred)\n",
    "test_mae = mean_absolute_error(y_test, y_test_pred)\n",
    "\n",
    "\n",
    "print(f'Train MSE: {train_mse:.4f}')\n",
    "print(f'Train R^2: {train_r2:.4f}')\n",
    "print(f'Train MAE: {train_mae:.4f}',\"\\n\")\n",
    "\n",
    "print(f'Test MSE: {test_mse:.4f}')\n",
    "print(f'Test R^2: {test_r2:.4f}')\n",
    "print(f'Test MAE: {test_mae:.4f}')"
   ]
  },
  {
   "cell_type": "markdown",
   "metadata": {},
   "source": [
    "LinearRegression and Ridge have the same results"
   ]
  },
  {
   "cell_type": "code",
   "execution_count": 37,
   "metadata": {},
   "outputs": [],
   "source": [
    "ridge_coef = pd.DataFrame({'feature': X_train_final.columns, 'coef': ridge.coef_})\n",
    "lrg_coef = pd.DataFrame({'feature': X_train_final.columns, 'coef': lrg.coef_})\n",
    "\n",
    "ridge_coef = ridge_coef.sort_values(by='coef', ascending=False)\n",
    "lrg_coef = lrg_coef.sort_values(by='coef', ascending=False)"
   ]
  },
  {
   "cell_type": "code",
   "execution_count": 38,
   "metadata": {},
   "outputs": [
    {
     "name": "stdout",
     "output_type": "stream",
     "text": [
      "        feature      coef\n",
      "479  wine_price  0.814555 \n",
      "\n",
      "        feature      coef\n",
      "479  wine_price  0.811334\n"
     ]
    }
   ],
   "source": [
    "print(ridge_coef[ridge_coef['feature']=='wine_price'],\"\\n\")\n",
    "print(lrg_coef[lrg_coef['feature']=='wine_price'])"
   ]
  },
  {
   "cell_type": "code",
   "execution_count": 39,
   "metadata": {},
   "outputs": [
    {
     "data": {
      "text/html": [
       "<div>\n",
       "<style scoped>\n",
       "    .dataframe tbody tr th:only-of-type {\n",
       "        vertical-align: middle;\n",
       "    }\n",
       "\n",
       "    .dataframe tbody tr th {\n",
       "        vertical-align: top;\n",
       "    }\n",
       "\n",
       "    .dataframe thead th {\n",
       "        text-align: right;\n",
       "    }\n",
       "</style>\n",
       "<table border=\"1\" class=\"dataframe\">\n",
       "  <thead>\n",
       "    <tr style=\"text-align: right;\">\n",
       "      <th></th>\n",
       "      <th>feature</th>\n",
       "      <th>coef</th>\n",
       "    </tr>\n",
       "  </thead>\n",
       "  <tbody>\n",
       "    <tr>\n",
       "      <th>215</th>\n",
       "      <td>kettmann</td>\n",
       "      <td>2.517726</td>\n",
       "    </tr>\n",
       "    <tr>\n",
       "      <th>183</th>\n",
       "      <td>gregutt</td>\n",
       "      <td>2.420461</td>\n",
       "    </tr>\n",
       "    <tr>\n",
       "      <th>59</th>\n",
       "      <td>boone</td>\n",
       "      <td>2.320859</td>\n",
       "    </tr>\n",
       "    <tr>\n",
       "      <th>361</th>\n",
       "      <td>sean</td>\n",
       "      <td>2.270430</td>\n",
       "    </tr>\n",
       "    <tr>\n",
       "      <th>211</th>\n",
       "      <td>jim</td>\n",
       "      <td>1.401138</td>\n",
       "    </tr>\n",
       "  </tbody>\n",
       "</table>\n",
       "</div>"
      ],
      "text/plain": [
       "      feature      coef\n",
       "215  kettmann  2.517726\n",
       "183   gregutt  2.420461\n",
       "59      boone  2.320859\n",
       "361      sean  2.270430\n",
       "211       jim  1.401138"
      ]
     },
     "execution_count": 39,
     "metadata": {},
     "output_type": "execute_result"
    }
   ],
   "source": [
    "lrg_coef.head()"
   ]
  },
  {
   "cell_type": "code",
   "execution_count": 40,
   "metadata": {},
   "outputs": [
    {
     "data": {
      "text/html": [
       "<div>\n",
       "<style scoped>\n",
       "    .dataframe tbody tr th:only-of-type {\n",
       "        vertical-align: middle;\n",
       "    }\n",
       "\n",
       "    .dataframe tbody tr th {\n",
       "        vertical-align: top;\n",
       "    }\n",
       "\n",
       "    .dataframe thead th {\n",
       "        text-align: right;\n",
       "    }\n",
       "</style>\n",
       "<table border=\"1\" class=\"dataframe\">\n",
       "  <thead>\n",
       "    <tr style=\"text-align: right;\">\n",
       "      <th></th>\n",
       "      <th>feature</th>\n",
       "      <th>coef</th>\n",
       "    </tr>\n",
       "  </thead>\n",
       "  <tbody>\n",
       "    <tr>\n",
       "      <th>183</th>\n",
       "      <td>gregutt</td>\n",
       "      <td>1.882480</td>\n",
       "    </tr>\n",
       "    <tr>\n",
       "      <th>215</th>\n",
       "      <td>kettmann</td>\n",
       "      <td>1.626700</td>\n",
       "    </tr>\n",
       "    <tr>\n",
       "      <th>361</th>\n",
       "      <td>sean</td>\n",
       "      <td>1.571748</td>\n",
       "    </tr>\n",
       "    <tr>\n",
       "      <th>98</th>\n",
       "      <td>complex</td>\n",
       "      <td>1.224583</td>\n",
       "    </tr>\n",
       "    <tr>\n",
       "      <th>40</th>\n",
       "      <td>beautiful</td>\n",
       "      <td>1.213658</td>\n",
       "    </tr>\n",
       "  </tbody>\n",
       "</table>\n",
       "</div>"
      ],
      "text/plain": [
       "       feature      coef\n",
       "183    gregutt  1.882480\n",
       "215   kettmann  1.626700\n",
       "361       sean  1.571748\n",
       "98     complex  1.224583\n",
       "40   beautiful  1.213658"
      ]
     },
     "execution_count": 40,
     "metadata": {},
     "output_type": "execute_result"
    }
   ],
   "source": [
    "ridge_coef.head()"
   ]
  },
  {
   "cell_type": "code",
   "execution_count": 41,
   "metadata": {},
   "outputs": [],
   "source": [
    "tfidf_vec = TfidfVectorizer(ngram_range= (1,3),min_df=0.01,max_df = 0.5,token_pattern=u'(?ui)\\\\b\\\\w*[a-z]+\\\\w*\\\\b')\n",
    "\n",
    "tfidf_vec.fit(X_train[\"text\"])\n",
    "\n",
    "# use the transform method to convert the training and test data to a sparse matrix\n",
    "X_train_tfidf_matrix = tfidf_vec.transform(X_train[\"text\"])\n",
    "X_test_tfidfmatrix = tfidf_vec.transform(X_test[\"text\"])\n",
    "\n",
    "X_train_tfidf_matrix = pd.DataFrame(X_train_tfidf_matrix.toarray(), columns=tfidf_vec.get_feature_names_out())\n",
    "X_test_tfidfmatrix = pd.DataFrame(X_test_tfidfmatrix.toarray(), columns=tfidf_vec.get_feature_names_out())"
   ]
  },
  {
   "cell_type": "code",
   "execution_count": 42,
   "metadata": {},
   "outputs": [
    {
     "data": {
      "text/html": [
       "<div>\n",
       "<style scoped>\n",
       "    .dataframe tbody tr th:only-of-type {\n",
       "        vertical-align: middle;\n",
       "    }\n",
       "\n",
       "    .dataframe tbody tr th {\n",
       "        vertical-align: top;\n",
       "    }\n",
       "\n",
       "    .dataframe thead th {\n",
       "        text-align: right;\n",
       "    }\n",
       "</style>\n",
       "<table border=\"1\" class=\"dataframe\">\n",
       "  <thead>\n",
       "    <tr style=\"text-align: right;\">\n",
       "      <th></th>\n",
       "      <th>accent</th>\n",
       "      <th>accented</th>\n",
       "      <th>acid</th>\n",
       "      <th>acidic</th>\n",
       "      <th>acidity</th>\n",
       "      <th>acidity california</th>\n",
       "      <th>add</th>\n",
       "      <th>age</th>\n",
       "      <th>aged</th>\n",
       "      <th>aging</th>\n",
       "      <th>...</th>\n",
       "      <th>york anna</th>\n",
       "      <th>york anna lee</th>\n",
       "      <th>young</th>\n",
       "      <th>zest</th>\n",
       "      <th>zesty</th>\n",
       "      <th>zin</th>\n",
       "      <th>zinfandel</th>\n",
       "      <th>wine_price</th>\n",
       "      <th>title_sentiment</th>\n",
       "      <th>description_sentiment</th>\n",
       "    </tr>\n",
       "  </thead>\n",
       "  <tbody>\n",
       "    <tr>\n",
       "      <th>0</th>\n",
       "      <td>0.0</td>\n",
       "      <td>0.000000</td>\n",
       "      <td>0.0</td>\n",
       "      <td>0.0</td>\n",
       "      <td>0.143322</td>\n",
       "      <td>0.0</td>\n",
       "      <td>0.0</td>\n",
       "      <td>0.0</td>\n",
       "      <td>0.0</td>\n",
       "      <td>0.0</td>\n",
       "      <td>...</td>\n",
       "      <td>0.0</td>\n",
       "      <td>0.0</td>\n",
       "      <td>0.0</td>\n",
       "      <td>0.0</td>\n",
       "      <td>0.0</td>\n",
       "      <td>0.0</td>\n",
       "      <td>0.0</td>\n",
       "      <td>-0.888613</td>\n",
       "      <td>-0.072962</td>\n",
       "      <td>-0.794409</td>\n",
       "    </tr>\n",
       "    <tr>\n",
       "      <th>1</th>\n",
       "      <td>0.0</td>\n",
       "      <td>0.000000</td>\n",
       "      <td>0.0</td>\n",
       "      <td>0.0</td>\n",
       "      <td>0.000000</td>\n",
       "      <td>0.0</td>\n",
       "      <td>0.0</td>\n",
       "      <td>0.0</td>\n",
       "      <td>0.0</td>\n",
       "      <td>0.0</td>\n",
       "      <td>...</td>\n",
       "      <td>0.0</td>\n",
       "      <td>0.0</td>\n",
       "      <td>0.0</td>\n",
       "      <td>0.0</td>\n",
       "      <td>0.0</td>\n",
       "      <td>0.0</td>\n",
       "      <td>0.0</td>\n",
       "      <td>-0.928294</td>\n",
       "      <td>-3.170890</td>\n",
       "      <td>0.030287</td>\n",
       "    </tr>\n",
       "    <tr>\n",
       "      <th>2</th>\n",
       "      <td>0.0</td>\n",
       "      <td>0.000000</td>\n",
       "      <td>0.0</td>\n",
       "      <td>0.0</td>\n",
       "      <td>0.000000</td>\n",
       "      <td>0.0</td>\n",
       "      <td>0.0</td>\n",
       "      <td>0.0</td>\n",
       "      <td>0.0</td>\n",
       "      <td>0.0</td>\n",
       "      <td>...</td>\n",
       "      <td>0.0</td>\n",
       "      <td>0.0</td>\n",
       "      <td>0.0</td>\n",
       "      <td>0.0</td>\n",
       "      <td>0.0</td>\n",
       "      <td>0.0</td>\n",
       "      <td>0.0</td>\n",
       "      <td>1.135131</td>\n",
       "      <td>2.250484</td>\n",
       "      <td>0.845280</td>\n",
       "    </tr>\n",
       "    <tr>\n",
       "      <th>3</th>\n",
       "      <td>0.0</td>\n",
       "      <td>0.000000</td>\n",
       "      <td>0.0</td>\n",
       "      <td>0.0</td>\n",
       "      <td>0.000000</td>\n",
       "      <td>0.0</td>\n",
       "      <td>0.0</td>\n",
       "      <td>0.0</td>\n",
       "      <td>0.0</td>\n",
       "      <td>0.0</td>\n",
       "      <td>...</td>\n",
       "      <td>0.0</td>\n",
       "      <td>0.0</td>\n",
       "      <td>0.0</td>\n",
       "      <td>0.0</td>\n",
       "      <td>0.0</td>\n",
       "      <td>0.0</td>\n",
       "      <td>0.0</td>\n",
       "      <td>-0.690207</td>\n",
       "      <td>-0.072962</td>\n",
       "      <td>1.146051</td>\n",
       "    </tr>\n",
       "    <tr>\n",
       "      <th>4</th>\n",
       "      <td>0.0</td>\n",
       "      <td>0.277528</td>\n",
       "      <td>0.0</td>\n",
       "      <td>0.0</td>\n",
       "      <td>0.000000</td>\n",
       "      <td>0.0</td>\n",
       "      <td>0.0</td>\n",
       "      <td>0.0</td>\n",
       "      <td>0.0</td>\n",
       "      <td>0.0</td>\n",
       "      <td>...</td>\n",
       "      <td>0.0</td>\n",
       "      <td>0.0</td>\n",
       "      <td>0.0</td>\n",
       "      <td>0.0</td>\n",
       "      <td>0.0</td>\n",
       "      <td>0.0</td>\n",
       "      <td>0.0</td>\n",
       "      <td>-0.094988</td>\n",
       "      <td>-0.072962</td>\n",
       "      <td>-0.802494</td>\n",
       "    </tr>\n",
       "  </tbody>\n",
       "</table>\n",
       "<p>5 rows × 665 columns</p>\n",
       "</div>"
      ],
      "text/plain": [
       "   accent  accented  acid  acidic   acidity  acidity california  add  age  \\\n",
       "0     0.0  0.000000   0.0     0.0  0.143322                 0.0  0.0  0.0   \n",
       "1     0.0  0.000000   0.0     0.0  0.000000                 0.0  0.0  0.0   \n",
       "2     0.0  0.000000   0.0     0.0  0.000000                 0.0  0.0  0.0   \n",
       "3     0.0  0.000000   0.0     0.0  0.000000                 0.0  0.0  0.0   \n",
       "4     0.0  0.277528   0.0     0.0  0.000000                 0.0  0.0  0.0   \n",
       "\n",
       "   aged  aging  ...  york anna  york anna lee  young  zest  zesty  zin  \\\n",
       "0   0.0    0.0  ...        0.0            0.0    0.0   0.0    0.0  0.0   \n",
       "1   0.0    0.0  ...        0.0            0.0    0.0   0.0    0.0  0.0   \n",
       "2   0.0    0.0  ...        0.0            0.0    0.0   0.0    0.0  0.0   \n",
       "3   0.0    0.0  ...        0.0            0.0    0.0   0.0    0.0  0.0   \n",
       "4   0.0    0.0  ...        0.0            0.0    0.0   0.0    0.0  0.0   \n",
       "\n",
       "   zinfandel  wine_price  title_sentiment  description_sentiment  \n",
       "0        0.0   -0.888613        -0.072962              -0.794409  \n",
       "1        0.0   -0.928294        -3.170890               0.030287  \n",
       "2        0.0    1.135131         2.250484               0.845280  \n",
       "3        0.0   -0.690207        -0.072962               1.146051  \n",
       "4        0.0   -0.094988        -0.072962              -0.802494  \n",
       "\n",
       "[5 rows x 665 columns]"
      ]
     },
     "execution_count": 42,
     "metadata": {},
     "output_type": "execute_result"
    }
   ],
   "source": [
    "# Concatenate the countvectorized features dataframe with the numerical columns\n",
    "# train_price = X_train[numeric_features].reset_index(drop=True).rename(columns={'price': 'wine_price'})\n",
    "X_train_tfidf_final = pd.concat([X_train_tfidf_matrix, pd.DataFrame(train_price)], axis=1)\n",
    "\n",
    "# test_price = X_test[numeric_features].reset_index(drop=True).rename(columns={'price': 'wine_price'})\n",
    "X_test_tfidf_final = pd.concat([X_test_tfidfmatrix, pd.DataFrame(test_price)], axis=1)\n",
    "\n",
    "  \n",
    "X_train_tfidf_final.head()"
   ]
  },
  {
   "cell_type": "code",
   "execution_count": 276,
   "metadata": {},
   "outputs": [
    {
     "name": "stdout",
     "output_type": "stream",
     "text": [
      "Best alpha: 0.1\n",
      "Best alpha: 0.1\n"
     ]
    }
   ],
   "source": [
    "ridge = RidgeCV()\n",
    "param_grid = {'alphas': np.logspace(-3, 3, 7)}\n",
    "grid_search = GridSearchCV(ridge, param_grid, cv=5)\n",
    "grid_search.fit(X_train_tfidf_final, y_train)\n",
    "\n",
    "best_alpha = grid_search.best_params_['alphas']\n",
    "print(f'Best alpha: {best_alpha}')# ridge = RidgeCV()"
   ]
  },
  {
   "cell_type": "code",
   "execution_count": 43,
   "metadata": {},
   "outputs": [
    {
     "name": "stdout",
     "output_type": "stream",
     "text": [
      "Train MSE: 3.1108\n",
      "Train R^2: 0.6740\n",
      "Train MAE: 1.3885 \n",
      "\n",
      "Test MSE: 3.5604\n",
      "Test R^2: 0.6554\n",
      "Test MAE: 1.4081\n"
     ]
    }
   ],
   "source": [
    "ridge = Ridge(alpha=0.1)\n",
    "ridge.fit(X_train_tfidf_final, y_train)\n",
    "\n",
    "y_train_pred = ridge.predict(X_train_tfidf_final)\n",
    "y_test_pred = ridge.predict(X_test_tfidf_final)\n",
    "\n",
    "train_mse = mean_squared_error(y_train, y_train_pred)\n",
    "train_r2 = r2_score(y_train, y_train_pred)\n",
    "train_mae = mean_absolute_error(y_train, y_train_pred)\n",
    "test_mse = mean_squared_error(y_test, y_test_pred)\n",
    "test_r2 = r2_score(y_test, y_test_pred)\n",
    "test_mae = mean_absolute_error(y_test, y_test_pred)\n",
    "\n",
    "print(f'Train MSE: {train_mse:.4f}')\n",
    "print(f'Train R^2: {train_r2:.4f}')\n",
    "print(f'Train MAE: {train_mae:.4f}',\"\\n\")\n",
    "\n",
    "print(f'Test MSE: {test_mse:.4f}')\n",
    "print(f'Test R^2: {test_r2:.4f}')\n",
    "print(f'Test MAE: {test_mae:.4f}')"
   ]
  },
  {
   "cell_type": "markdown",
   "metadata": {},
   "source": [
    "## Word Vectors \n",
    "\n",
    "Using a pretrained word-embedding (word2vec) for featurization instead of the bag-of-words model."
   ]
  },
  {
   "cell_type": "code",
   "execution_count": 47,
   "metadata": {},
   "outputs": [
    {
     "data": {
      "text/plain": [
       "2     tart snappy flavor lime flesh rind dominate gr...\n",
       "3     pineapple rind lemon pith orange blossom start...\n",
       "4     much like regular bottling 2012 come across ra...\n",
       "10    soft supple plum envelope oaky structure caber...\n",
       "12    slightly reduced wine offer chalky tannic back...\n",
       "Name: text, dtype: object"
      ]
     },
     "execution_count": 47,
     "metadata": {},
     "output_type": "execute_result"
    }
   ],
   "source": [
    "X_train_2vec = X_train['text'].copy()\n",
    "X_test_2vec = X_test['text'].copy()\n",
    "X_train_2vec.head()"
   ]
  },
  {
   "cell_type": "code",
   "execution_count": 48,
   "metadata": {},
   "outputs": [],
   "source": [
    "# !pip install gensim"
   ]
  },
  {
   "cell_type": "code",
   "execution_count": 49,
   "metadata": {},
   "outputs": [],
   "source": [
    "import gensim\n",
    "word2vec_model = gensim.models.KeyedVectors.load_word2vec_format('GoogleNews-vectors-negative300.bin', binary=True)"
   ]
  },
  {
   "cell_type": "code",
   "execution_count": 50,
   "metadata": {},
   "outputs": [],
   "source": [
    "'''\n",
    "Preparing the data by tokenizing the \"text\" column and converting each word to its corresponding vector\n",
    "representation using the pre-trained model\n",
    "'''\n",
    "def get_word_vectors(descriptions, model):\n",
    "    desc_vectors = []\n",
    "    for desc in descriptions:\n",
    "        desc_tokens = desc.split()\n",
    "        desc_vectors.append(np.mean([model[token] for token in desc_tokens if token in model], axis=0))\n",
    "    return desc_vectors"
   ]
  },
  {
   "cell_type": "code",
   "execution_count": 51,
   "metadata": {},
   "outputs": [],
   "source": [
    "# Get word vectors for train and test descriptions\n",
    "train_desc_vectors = get_word_vectors(X_train_2vec, word2vec_model)\n",
    "test_desc_vectors = get_word_vectors(X_test_2vec, word2vec_model)\n"
   ]
  },
  {
   "cell_type": "code",
   "execution_count": 52,
   "metadata": {},
   "outputs": [
    {
     "name": "stdout",
     "output_type": "stream",
     "text": [
      "Mean squared error: 3.718901556589625\n",
      "R^2 score: 0.640066952162968\n"
     ]
    }
   ],
   "source": [
    "# Training lrg only on the word2vec matrix\n",
    "model = LinearRegression()\n",
    "model.fit(train_desc_vectors, y_train)\n",
    "\n",
    "y_pred = model.predict(test_desc_vectors)\n",
    "print(\"Mean squared error:\", mean_squared_error(y_test, y_pred))\n",
    "print(\"R^2 score:\", r2_score(y_test, y_pred))"
   ]
  },
  {
   "cell_type": "markdown",
   "metadata": {},
   "source": [
    "#### Combining CountVectorizer dataframe with the Word2Vec matrix\n"
   ]
  },
  {
   "cell_type": "code",
   "execution_count": 53,
   "metadata": {},
   "outputs": [],
   "source": [
    "# Concatenating the two dataframes\n",
    "# Making all the columns from the word2vec matrix to be strings (due to error)\n",
    "\n",
    "train_desc_vectors = pd.DataFrame(train_desc_vectors)\n",
    "train_desc_vectors.columns = [str(i) for i in range(train_desc_vectors.shape[1])]\n",
    "X_train_final_2vec = pd.concat([X_train_final, train_desc_vectors], axis=1)\n",
    "\n",
    "test_desc_vectors = pd.DataFrame(test_desc_vectors)\n",
    "test_desc_vectors.columns = [str(i) for i in range(test_desc_vectors.shape[1])]\n",
    "X_test_final_2vec = pd.concat([X_test_final, test_desc_vectors], axis=1)"
   ]
  },
  {
   "cell_type": "code",
   "execution_count": 54,
   "metadata": {},
   "outputs": [
    {
     "data": {
      "text/html": [
       "<style>#sk-container-id-1 {color: black;background-color: white;}#sk-container-id-1 pre{padding: 0;}#sk-container-id-1 div.sk-toggleable {background-color: white;}#sk-container-id-1 label.sk-toggleable__label {cursor: pointer;display: block;width: 100%;margin-bottom: 0;padding: 0.3em;box-sizing: border-box;text-align: center;}#sk-container-id-1 label.sk-toggleable__label-arrow:before {content: \"▸\";float: left;margin-right: 0.25em;color: #696969;}#sk-container-id-1 label.sk-toggleable__label-arrow:hover:before {color: black;}#sk-container-id-1 div.sk-estimator:hover label.sk-toggleable__label-arrow:before {color: black;}#sk-container-id-1 div.sk-toggleable__content {max-height: 0;max-width: 0;overflow: hidden;text-align: left;background-color: #f0f8ff;}#sk-container-id-1 div.sk-toggleable__content pre {margin: 0.2em;color: black;border-radius: 0.25em;background-color: #f0f8ff;}#sk-container-id-1 input.sk-toggleable__control:checked~div.sk-toggleable__content {max-height: 200px;max-width: 100%;overflow: auto;}#sk-container-id-1 input.sk-toggleable__control:checked~label.sk-toggleable__label-arrow:before {content: \"▾\";}#sk-container-id-1 div.sk-estimator input.sk-toggleable__control:checked~label.sk-toggleable__label {background-color: #d4ebff;}#sk-container-id-1 div.sk-label input.sk-toggleable__control:checked~label.sk-toggleable__label {background-color: #d4ebff;}#sk-container-id-1 input.sk-hidden--visually {border: 0;clip: rect(1px 1px 1px 1px);clip: rect(1px, 1px, 1px, 1px);height: 1px;margin: -1px;overflow: hidden;padding: 0;position: absolute;width: 1px;}#sk-container-id-1 div.sk-estimator {font-family: monospace;background-color: #f0f8ff;border: 1px dotted black;border-radius: 0.25em;box-sizing: border-box;margin-bottom: 0.5em;}#sk-container-id-1 div.sk-estimator:hover {background-color: #d4ebff;}#sk-container-id-1 div.sk-parallel-item::after {content: \"\";width: 100%;border-bottom: 1px solid gray;flex-grow: 1;}#sk-container-id-1 div.sk-label:hover label.sk-toggleable__label {background-color: #d4ebff;}#sk-container-id-1 div.sk-serial::before {content: \"\";position: absolute;border-left: 1px solid gray;box-sizing: border-box;top: 0;bottom: 0;left: 50%;z-index: 0;}#sk-container-id-1 div.sk-serial {display: flex;flex-direction: column;align-items: center;background-color: white;padding-right: 0.2em;padding-left: 0.2em;position: relative;}#sk-container-id-1 div.sk-item {position: relative;z-index: 1;}#sk-container-id-1 div.sk-parallel {display: flex;align-items: stretch;justify-content: center;background-color: white;position: relative;}#sk-container-id-1 div.sk-item::before, #sk-container-id-1 div.sk-parallel-item::before {content: \"\";position: absolute;border-left: 1px solid gray;box-sizing: border-box;top: 0;bottom: 0;left: 50%;z-index: -1;}#sk-container-id-1 div.sk-parallel-item {display: flex;flex-direction: column;z-index: 1;position: relative;background-color: white;}#sk-container-id-1 div.sk-parallel-item:first-child::after {align-self: flex-end;width: 50%;}#sk-container-id-1 div.sk-parallel-item:last-child::after {align-self: flex-start;width: 50%;}#sk-container-id-1 div.sk-parallel-item:only-child::after {width: 0;}#sk-container-id-1 div.sk-dashed-wrapped {border: 1px dashed gray;margin: 0 0.4em 0.5em 0.4em;box-sizing: border-box;padding-bottom: 0.4em;background-color: white;}#sk-container-id-1 div.sk-label label {font-family: monospace;font-weight: bold;display: inline-block;line-height: 1.2em;}#sk-container-id-1 div.sk-label-container {text-align: center;}#sk-container-id-1 div.sk-container {/* jupyter's `normalize.less` sets `[hidden] { display: none; }` but bootstrap.min.css set `[hidden] { display: none !important; }` so we also need the `!important` here to be able to override the default hidden behavior on the sphinx rendered scikit-learn.org. See: https://github.com/scikit-learn/scikit-learn/issues/21755 */display: inline-block !important;position: relative;}#sk-container-id-1 div.sk-text-repr-fallback {display: none;}</style><div id=\"sk-container-id-1\" class=\"sk-top-container\"><div class=\"sk-text-repr-fallback\"><pre>LinearRegression()</pre><b>In a Jupyter environment, please rerun this cell to show the HTML representation or trust the notebook. <br />On GitHub, the HTML representation is unable to render, please try loading this page with nbviewer.org.</b></div><div class=\"sk-container\" hidden><div class=\"sk-item\"><div class=\"sk-estimator sk-toggleable\"><input class=\"sk-toggleable__control sk-hidden--visually\" id=\"sk-estimator-id-1\" type=\"checkbox\" checked><label for=\"sk-estimator-id-1\" class=\"sk-toggleable__label sk-toggleable__label-arrow\">LinearRegression</label><div class=\"sk-toggleable__content\"><pre>LinearRegression()</pre></div></div></div></div></div>"
      ],
      "text/plain": [
       "LinearRegression()"
      ]
     },
     "execution_count": 54,
     "metadata": {},
     "output_type": "execute_result"
    }
   ],
   "source": [
    "regression_model = LinearRegression()\n",
    "regression_model.fit(X_train_final_2vec, y_train)"
   ]
  },
  {
   "cell_type": "code",
   "execution_count": 55,
   "metadata": {},
   "outputs": [
    {
     "name": "stdout",
     "output_type": "stream",
     "text": [
      "Train MSE: 2.5375\n",
      "Train R^2: 0.7341\n",
      "Train MAE: 1.2582 \n",
      "\n",
      "Test MSE: 2.8278\n",
      "Test R^2: 0.7263\n",
      "Test MAE: 1.2731\n"
     ]
    }
   ],
   "source": [
    "y_train_pred = regression_model.predict(X_train_final_2vec)\n",
    "y_test_pred = regression_model.predict(X_test_final_2vec)\n",
    "\n",
    "train_mse = mean_squared_error(y_train, y_train_pred)\n",
    "train_r2 = r2_score(y_train, y_train_pred)\n",
    "train_mae = mean_absolute_error(y_train, y_train_pred)\n",
    "test_mse = mean_squared_error(y_test, y_test_pred)\n",
    "test_r2 = r2_score(y_test, y_test_pred)\n",
    "test_mae = mean_absolute_error(y_test, y_test_pred)\n",
    "\n",
    "print(f'Train MSE: {train_mse:.4f}')\n",
    "print(f'Train R^2: {train_r2:.4f}')\n",
    "print(f'Train MAE: {train_mae:.4f}',\"\\n\")\n",
    "\n",
    "print(f'Test MSE: {test_mse:.4f}')\n",
    "print(f'Test R^2: {test_r2:.4f}')\n",
    "print(f'Test MAE: {test_mae:.4f}')"
   ]
  },
  {
   "cell_type": "markdown",
   "metadata": {},
   "source": [
    "We can see that combining the CountVectorizer dataframe (which is already with some numerical features) with the Word2Vec matrix, we get the best results."
   ]
  },
  {
   "cell_type": "markdown",
   "metadata": {},
   "source": [
    "# Transformers\n",
    "\n",
    "Fine-tunning a BERT model on the text data alone using the transformers library"
   ]
  },
  {
   "cell_type": "code",
   "execution_count": 56,
   "metadata": {},
   "outputs": [],
   "source": [
    "# !pip install transformers"
   ]
  },
  {
   "cell_type": "code",
   "execution_count": 46,
   "metadata": {},
   "outputs": [
    {
     "name": "stderr",
     "output_type": "stream",
     "text": [
      "Some weights of the model checkpoint at bert-base-uncased were not used when initializing BertModel: ['cls.predictions.transform.dense.weight', 'cls.seq_relationship.bias', 'cls.predictions.decoder.weight', 'cls.predictions.transform.dense.bias', 'cls.predictions.transform.LayerNorm.bias', 'cls.seq_relationship.weight', 'cls.predictions.bias', 'cls.predictions.transform.LayerNorm.weight']\n",
      "- This IS expected if you are initializing BertModel from the checkpoint of a model trained on another task or with another architecture (e.g. initializing a BertForSequenceClassification model from a BertForPreTraining model).\n",
      "- This IS NOT expected if you are initializing BertModel from the checkpoint of a model that you expect to be exactly identical (initializing a BertForSequenceClassification model from a BertForSequenceClassification model).\n"
     ]
    }
   ],
   "source": [
    "from transformers import BertTokenizer, BertModel\n",
    "\n",
    "tokenizer = BertTokenizer.from_pretrained('bert-base-uncased')\n",
    "model = BertModel.from_pretrained('bert-base-uncased')\n"
   ]
  },
  {
   "cell_type": "code",
   "execution_count": 49,
   "metadata": {},
   "outputs": [
    {
     "name": "stderr",
     "output_type": "stream",
     "text": [
      "Truncation was not explicitly activated but `max_length` is provided a specific value, please use `truncation=True` to explicitly truncate examples to max length. Defaulting to 'longest_first' truncation strategy. If you encode pairs of sequences (GLUE-style) with the tokenizer you can select this strategy more precisely by providing a specific strategy to `truncation`.\n"
     ]
    }
   ],
   "source": [
    "X_train['text_tokenized'] = X_train['text'].apply(lambda x: tokenizer.encode(x, add_special_tokens=True,\n",
    "                                                                             max_length=40))\n"
   ]
  },
  {
   "cell_type": "code",
   "execution_count": 61,
   "metadata": {},
   "outputs": [],
   "source": [
    "X_train_bert = []\n",
    "for text_tokenized in X_train['text_tokenized']:\n",
    "    input_ids = torch.tensor(text_tokenized).unsqueeze(0)\n",
    "    hidden_states = model(input_ids)[0]\n",
    "    X_train_bert.append(hidden_states[0][0].detach().numpy())\n",
    "\n"
   ]
  },
  {
   "cell_type": "code",
   "execution_count": 62,
   "metadata": {},
   "outputs": [],
   "source": [
    "X_train_bert = np.array(X_train_bert)"
   ]
  },
  {
   "cell_type": "code",
   "execution_count": 63,
   "metadata": {},
   "outputs": [],
   "source": [
    "regressor = LinearRegression()"
   ]
  },
  {
   "cell_type": "code",
   "execution_count": 64,
   "metadata": {},
   "outputs": [
    {
     "data": {
      "text/html": [
       "<style>#sk-container-id-1 {color: black;background-color: white;}#sk-container-id-1 pre{padding: 0;}#sk-container-id-1 div.sk-toggleable {background-color: white;}#sk-container-id-1 label.sk-toggleable__label {cursor: pointer;display: block;width: 100%;margin-bottom: 0;padding: 0.3em;box-sizing: border-box;text-align: center;}#sk-container-id-1 label.sk-toggleable__label-arrow:before {content: \"▸\";float: left;margin-right: 0.25em;color: #696969;}#sk-container-id-1 label.sk-toggleable__label-arrow:hover:before {color: black;}#sk-container-id-1 div.sk-estimator:hover label.sk-toggleable__label-arrow:before {color: black;}#sk-container-id-1 div.sk-toggleable__content {max-height: 0;max-width: 0;overflow: hidden;text-align: left;background-color: #f0f8ff;}#sk-container-id-1 div.sk-toggleable__content pre {margin: 0.2em;color: black;border-radius: 0.25em;background-color: #f0f8ff;}#sk-container-id-1 input.sk-toggleable__control:checked~div.sk-toggleable__content {max-height: 200px;max-width: 100%;overflow: auto;}#sk-container-id-1 input.sk-toggleable__control:checked~label.sk-toggleable__label-arrow:before {content: \"▾\";}#sk-container-id-1 div.sk-estimator input.sk-toggleable__control:checked~label.sk-toggleable__label {background-color: #d4ebff;}#sk-container-id-1 div.sk-label input.sk-toggleable__control:checked~label.sk-toggleable__label {background-color: #d4ebff;}#sk-container-id-1 input.sk-hidden--visually {border: 0;clip: rect(1px 1px 1px 1px);clip: rect(1px, 1px, 1px, 1px);height: 1px;margin: -1px;overflow: hidden;padding: 0;position: absolute;width: 1px;}#sk-container-id-1 div.sk-estimator {font-family: monospace;background-color: #f0f8ff;border: 1px dotted black;border-radius: 0.25em;box-sizing: border-box;margin-bottom: 0.5em;}#sk-container-id-1 div.sk-estimator:hover {background-color: #d4ebff;}#sk-container-id-1 div.sk-parallel-item::after {content: \"\";width: 100%;border-bottom: 1px solid gray;flex-grow: 1;}#sk-container-id-1 div.sk-label:hover label.sk-toggleable__label {background-color: #d4ebff;}#sk-container-id-1 div.sk-serial::before {content: \"\";position: absolute;border-left: 1px solid gray;box-sizing: border-box;top: 0;bottom: 0;left: 50%;z-index: 0;}#sk-container-id-1 div.sk-serial {display: flex;flex-direction: column;align-items: center;background-color: white;padding-right: 0.2em;padding-left: 0.2em;position: relative;}#sk-container-id-1 div.sk-item {position: relative;z-index: 1;}#sk-container-id-1 div.sk-parallel {display: flex;align-items: stretch;justify-content: center;background-color: white;position: relative;}#sk-container-id-1 div.sk-item::before, #sk-container-id-1 div.sk-parallel-item::before {content: \"\";position: absolute;border-left: 1px solid gray;box-sizing: border-box;top: 0;bottom: 0;left: 50%;z-index: -1;}#sk-container-id-1 div.sk-parallel-item {display: flex;flex-direction: column;z-index: 1;position: relative;background-color: white;}#sk-container-id-1 div.sk-parallel-item:first-child::after {align-self: flex-end;width: 50%;}#sk-container-id-1 div.sk-parallel-item:last-child::after {align-self: flex-start;width: 50%;}#sk-container-id-1 div.sk-parallel-item:only-child::after {width: 0;}#sk-container-id-1 div.sk-dashed-wrapped {border: 1px dashed gray;margin: 0 0.4em 0.5em 0.4em;box-sizing: border-box;padding-bottom: 0.4em;background-color: white;}#sk-container-id-1 div.sk-label label {font-family: monospace;font-weight: bold;display: inline-block;line-height: 1.2em;}#sk-container-id-1 div.sk-label-container {text-align: center;}#sk-container-id-1 div.sk-container {/* jupyter's `normalize.less` sets `[hidden] { display: none; }` but bootstrap.min.css set `[hidden] { display: none !important; }` so we also need the `!important` here to be able to override the default hidden behavior on the sphinx rendered scikit-learn.org. See: https://github.com/scikit-learn/scikit-learn/issues/21755 */display: inline-block !important;position: relative;}#sk-container-id-1 div.sk-text-repr-fallback {display: none;}</style><div id=\"sk-container-id-1\" class=\"sk-top-container\"><div class=\"sk-text-repr-fallback\"><pre>LinearRegression()</pre><b>In a Jupyter environment, please rerun this cell to show the HTML representation or trust the notebook. <br />On GitHub, the HTML representation is unable to render, please try loading this page with nbviewer.org.</b></div><div class=\"sk-container\" hidden><div class=\"sk-item\"><div class=\"sk-estimator sk-toggleable\"><input class=\"sk-toggleable__control sk-hidden--visually\" id=\"sk-estimator-id-1\" type=\"checkbox\" checked><label for=\"sk-estimator-id-1\" class=\"sk-toggleable__label sk-toggleable__label-arrow\">LinearRegression</label><div class=\"sk-toggleable__content\"><pre>LinearRegression()</pre></div></div></div></div></div>"
      ],
      "text/plain": [
       "LinearRegression()"
      ]
     },
     "execution_count": 64,
     "metadata": {},
     "output_type": "execute_result"
    }
   ],
   "source": [
    "regressor.fit(X_train_bert, y_train)"
   ]
  },
  {
   "cell_type": "code",
   "execution_count": 66,
   "metadata": {},
   "outputs": [],
   "source": [
    "X_test['text_tokenized'] = X_test['text'].apply(lambda x: tokenizer.encode(x, add_special_tokens=True,\n",
    "                                                                             max_length=40))"
   ]
  },
  {
   "cell_type": "code",
   "execution_count": 67,
   "metadata": {},
   "outputs": [
    {
     "name": "stdout",
     "output_type": "stream",
     "text": [
      "R-squared:  0.5673023357867233\n"
     ]
    }
   ],
   "source": [
    "X_test_bert = []\n",
    "for text_tokenized in X_test['text_tokenized']:\n",
    "    input_ids = torch.tensor(text_tokenized).unsqueeze(0)\n",
    "    hidden_states = model(input_ids)[0]\n",
    "    X_test_bert.append(hidden_states[0][0].detach().numpy())\n",
    "    \n",
    "X_test_bert = np.array(X_test_bert)\n",
    "y_pred = regressor.predict(X_test_bert)\n",
    "\n",
    "print(\"R-squared: \", r2_score(y_test, y_pred))"
   ]
  },
  {
   "cell_type": "code",
   "execution_count": 69,
   "metadata": {},
   "outputs": [
    {
     "name": "stdout",
     "output_type": "stream",
     "text": [
      "Train MSE: 4.2724\n",
      "Train R^2: 0.5523\n",
      "Train MAE: 1.6412 \n",
      "\n",
      "Test MSE: 4.4707\n",
      "Test R^2: 0.5673\n",
      "Test MAE: 1.6697\n"
     ]
    }
   ],
   "source": [
    "y_train_pred = regressor.predict(X_train_bert)\n",
    "y_test_pred = regressor.predict(X_test_bert)\n",
    "\n",
    "train_mse = mean_squared_error(y_train, y_train_pred)\n",
    "train_r2 = r2_score(y_train, y_train_pred)\n",
    "train_mae = mean_absolute_error(y_train, y_train_pred)\n",
    "test_mse = mean_squared_error(y_test, y_test_pred)\n",
    "test_r2 = r2_score(y_test, y_test_pred)\n",
    "test_mae = mean_absolute_error(y_test, y_test_pred)\n",
    "\n",
    "print(f'Train MSE: {train_mse:.4f}')\n",
    "print(f'Train R^2: {train_r2:.4f}')\n",
    "print(f'Train MAE: {train_mae:.4f}',\"\\n\")\n",
    "\n",
    "print(f'Test MSE: {test_mse:.4f}')\n",
    "print(f'Test R^2: {test_r2:.4f}')\n",
    "print(f'Test MAE: {test_mae:.4f}')"
   ]
  },
  {
   "cell_type": "markdown",
   "metadata": {},
   "source": [
    "Working with fine tuned pre trained bert model led to worse results."
   ]
  }
 ],
 "metadata": {
  "kernelspec": {
   "display_name": "Python 3 (ipykernel)",
   "language": "python",
   "name": "python3"
  },
  "language_info": {
   "codemirror_mode": {
    "name": "ipython",
    "version": 3
   },
   "file_extension": ".py",
   "mimetype": "text/x-python",
   "name": "python",
   "nbconvert_exporter": "python",
   "pygments_lexer": "ipython3",
   "version": "3.9.13"
  },
  "toc": {
   "base_numbering": 1,
   "nav_menu": {},
   "number_sections": false,
   "sideBar": true,
   "skip_h1_title": false,
   "title_cell": "Table of Contents",
   "title_sidebar": "Contents",
   "toc_cell": false,
   "toc_position": {},
   "toc_section_display": true,
   "toc_window_display": false
  }
 },
 "nbformat": 4,
 "nbformat_minor": 4
}
